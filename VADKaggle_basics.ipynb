{
 "cells": [
  {
   "cell_type": "code",
   "execution_count": 16,
   "metadata": {},
   "outputs": [],
   "source": [
    "import torch\n",
    "import numpy as np\n",
    "import pandas as pd\n",
    "import torch.nn as nn\n",
    "import torchaudio\n",
    "from python_speech_features import mfcc\n",
    "import textgrids\n",
    "import os"
   ]
  },
  {
   "cell_type": "code",
   "execution_count": 23,
   "metadata": {},
   "outputs": [
    {
     "name": "stdout",
     "output_type": "stream",
     "text": [
      "719 719\n"
     ]
    }
   ],
   "source": [
    "directory = '../audioData/VAD_Kaggle/Data/Audio'\n",
    "annot_dir = '../audioData/VAD_Kaggle/Data/Annotation'\n",
    "\n",
    "aud_files = []\n",
    "annotation_files = []\n",
    "\n",
    "for subdir, dirs, files in os.walk(directory):\n",
    "    for file in files:\n",
    "        fpath = subdir+os.sep+file\n",
    "        aud_files.append(fpath)\n",
    "        #print(fpath)\n",
    "\n",
    "for subdir, dirs, files in os.walk(annot_dir):\n",
    "    for file in files:\n",
    "        fpath = subdir+os.sep+file\n",
    "        annotation_files.append(fpath)\n",
    "        #print(fpath)\n",
    "\n",
    "print(len(aud_files), len(annotation_files))"
   ]
  },
  {
   "cell_type": "code",
   "execution_count": 25,
   "metadata": {},
   "outputs": [
    {
     "data": {
      "text/html": [
       "<div>\n",
       "<style scoped>\n",
       "    .dataframe tbody tr th:only-of-type {\n",
       "        vertical-align: middle;\n",
       "    }\n",
       "\n",
       "    .dataframe tbody tr th {\n",
       "        vertical-align: top;\n",
       "    }\n",
       "\n",
       "    .dataframe thead th {\n",
       "        text-align: right;\n",
       "    }\n",
       "</style>\n",
       "<table border=\"1\" class=\"dataframe\">\n",
       "  <thead>\n",
       "    <tr style=\"text-align: right;\">\n",
       "      <th></th>\n",
       "      <th>audio_files</th>\n",
       "      <th>annotation_files</th>\n",
       "    </tr>\n",
       "  </thead>\n",
       "  <tbody>\n",
       "    <tr>\n",
       "      <th>0</th>\n",
       "      <td>../audioData/VAD_Kaggle/Data/Audio/Female/PTDB...</td>\n",
       "      <td>../audioData/VAD_Kaggle/Data/Annotation/Female...</td>\n",
       "    </tr>\n",
       "    <tr>\n",
       "      <th>1</th>\n",
       "      <td>../audioData/VAD_Kaggle/Data/Audio/Female/PTDB...</td>\n",
       "      <td>../audioData/VAD_Kaggle/Data/Annotation/Female...</td>\n",
       "    </tr>\n",
       "    <tr>\n",
       "      <th>2</th>\n",
       "      <td>../audioData/VAD_Kaggle/Data/Audio/Female/PTDB...</td>\n",
       "      <td>../audioData/VAD_Kaggle/Data/Annotation/Female...</td>\n",
       "    </tr>\n",
       "    <tr>\n",
       "      <th>3</th>\n",
       "      <td>../audioData/VAD_Kaggle/Data/Audio/Female/PTDB...</td>\n",
       "      <td>../audioData/VAD_Kaggle/Data/Annotation/Female...</td>\n",
       "    </tr>\n",
       "    <tr>\n",
       "      <th>4</th>\n",
       "      <td>../audioData/VAD_Kaggle/Data/Audio/Female/PTDB...</td>\n",
       "      <td>../audioData/VAD_Kaggle/Data/Annotation/Female...</td>\n",
       "    </tr>\n",
       "    <tr>\n",
       "      <th>...</th>\n",
       "      <td>...</td>\n",
       "      <td>...</td>\n",
       "    </tr>\n",
       "    <tr>\n",
       "      <th>714</th>\n",
       "      <td>../audioData/VAD_Kaggle/Data/Audio/Noizeus/Tra...</td>\n",
       "      <td>../audioData/VAD_Kaggle/Data/Annotation/Noizeu...</td>\n",
       "    </tr>\n",
       "    <tr>\n",
       "      <th>715</th>\n",
       "      <td>../audioData/VAD_Kaggle/Data/Audio/Noizeus/Tra...</td>\n",
       "      <td>../audioData/VAD_Kaggle/Data/Annotation/Noizeu...</td>\n",
       "    </tr>\n",
       "    <tr>\n",
       "      <th>716</th>\n",
       "      <td>../audioData/VAD_Kaggle/Data/Audio/Noizeus/Tra...</td>\n",
       "      <td>../audioData/VAD_Kaggle/Data/Annotation/Noizeu...</td>\n",
       "    </tr>\n",
       "    <tr>\n",
       "      <th>717</th>\n",
       "      <td>../audioData/VAD_Kaggle/Data/Audio/Noizeus/Tra...</td>\n",
       "      <td>../audioData/VAD_Kaggle/Data/Annotation/Noizeu...</td>\n",
       "    </tr>\n",
       "    <tr>\n",
       "      <th>718</th>\n",
       "      <td>../audioData/VAD_Kaggle/Data/Audio/Noizeus/Tra...</td>\n",
       "      <td>../audioData/VAD_Kaggle/Data/Annotation/Noizeu...</td>\n",
       "    </tr>\n",
       "  </tbody>\n",
       "</table>\n",
       "<p>719 rows × 2 columns</p>\n",
       "</div>"
      ],
      "text/plain": [
       "                                           audio_files  \\\n",
       "0    ../audioData/VAD_Kaggle/Data/Audio/Female/PTDB...   \n",
       "1    ../audioData/VAD_Kaggle/Data/Audio/Female/PTDB...   \n",
       "2    ../audioData/VAD_Kaggle/Data/Audio/Female/PTDB...   \n",
       "3    ../audioData/VAD_Kaggle/Data/Audio/Female/PTDB...   \n",
       "4    ../audioData/VAD_Kaggle/Data/Audio/Female/PTDB...   \n",
       "..                                                 ...   \n",
       "714  ../audioData/VAD_Kaggle/Data/Audio/Noizeus/Tra...   \n",
       "715  ../audioData/VAD_Kaggle/Data/Audio/Noizeus/Tra...   \n",
       "716  ../audioData/VAD_Kaggle/Data/Audio/Noizeus/Tra...   \n",
       "717  ../audioData/VAD_Kaggle/Data/Audio/Noizeus/Tra...   \n",
       "718  ../audioData/VAD_Kaggle/Data/Audio/Noizeus/Tra...   \n",
       "\n",
       "                                      annotation_files  \n",
       "0    ../audioData/VAD_Kaggle/Data/Annotation/Female...  \n",
       "1    ../audioData/VAD_Kaggle/Data/Annotation/Female...  \n",
       "2    ../audioData/VAD_Kaggle/Data/Annotation/Female...  \n",
       "3    ../audioData/VAD_Kaggle/Data/Annotation/Female...  \n",
       "4    ../audioData/VAD_Kaggle/Data/Annotation/Female...  \n",
       "..                                                 ...  \n",
       "714  ../audioData/VAD_Kaggle/Data/Annotation/Noizeu...  \n",
       "715  ../audioData/VAD_Kaggle/Data/Annotation/Noizeu...  \n",
       "716  ../audioData/VAD_Kaggle/Data/Annotation/Noizeu...  \n",
       "717  ../audioData/VAD_Kaggle/Data/Annotation/Noizeu...  \n",
       "718  ../audioData/VAD_Kaggle/Data/Annotation/Noizeu...  \n",
       "\n",
       "[719 rows x 2 columns]"
      ]
     },
     "execution_count": 25,
     "metadata": {},
     "output_type": "execute_result"
    }
   ],
   "source": [
    "dataset_csv = pd.DataFrame(columns=['audio_files', 'annotation_files'])\n",
    "dataset_csv['audio_files'] = aud_files\n",
    "dataset_csv['annotation_files'] = annotation_files\n",
    "\n",
    "dataset_csv"
   ]
  },
  {
   "cell_type": "code",
   "execution_count": 30,
   "metadata": {},
   "outputs": [],
   "source": [
    "dataset_csv.to_csv('VADKaggle.csv', index=False)"
   ]
  },
  {
   "cell_type": "code",
   "execution_count": 51,
   "metadata": {},
   "outputs": [],
   "source": [
    "#text_grid_fn = '../audioData/VAD_Kaggle/Data/Annotation/Male/TMIT/SI1060.TextGrid'\n",
    "text_grid_fn = dataset_csv['annotation_files'][5]\n",
    "grid = textgrids.TextGrid(text_grid_fn)"
   ]
  },
  {
   "cell_type": "code",
   "execution_count": 52,
   "metadata": {},
   "outputs": [
    {
     "data": {
      "text/plain": [
       "[<Interval text=\"0\" xmin=0.0 xmax=3.049>,\n",
       " <Interval text=\"1\" xmin=3.049 xmax=3.833>,\n",
       " <Interval text=\"0\" xmin=3.833 xmax=4.089>,\n",
       " <Interval text=\"1\" xmin=4.089 xmax=4.680999999999999>,\n",
       " <Interval text=\"0\" xmin=4.680999999999999 xmax=4.785>,\n",
       " <Interval text=\"1\" xmin=4.785 xmax=5.369>,\n",
       " <Interval text=\"0\" xmin=5.369 xmax=5.505000000000001>,\n",
       " <Interval text=\"1\" xmin=5.505000000000001 xmax=6.665000000000001>,\n",
       " <Interval text=\"0\" xmin=6.665000000000001 xmax=6.824999999999999>,\n",
       " <Interval text=\"1\" xmin=6.824999999999999 xmax=7.945>,\n",
       " <Interval text=\"0\" xmin=7.945 xmax=9.93>]"
      ]
     },
     "execution_count": 52,
     "metadata": {},
     "output_type": "execute_result"
    }
   ],
   "source": [
    "grid['silences']"
   ]
  },
  {
   "cell_type": "code",
   "execution_count": 62,
   "metadata": {},
   "outputs": [
    {
     "name": "stdout",
     "output_type": "stream",
     "text": [
      "3.0 4.0 1\n",
      "4.0 5.0 1\n",
      "5.0 5.0 1\n",
      "6.0 7.0 1\n",
      "7.0 8.0 1\n"
     ]
    }
   ],
   "source": [
    "for i in grid['silences']:\n",
    "    if i.text == '1':\n",
    "        print(np.round(i.xmin, decimals=0), np.round(i.xmax, decimals=0), i.text)\n",
    "#np.round(grid['silences'][6].xmin)"
   ]
  },
  {
   "cell_type": "code",
   "execution_count": 15,
   "metadata": {},
   "outputs": [],
   "source": [
    "grid.keys()\n",
    "grid.tier_to_csv('silences', 'test.csv')"
   ]
  },
  {
   "cell_type": "code",
   "execution_count": 43,
   "metadata": {},
   "outputs": [
    {
     "data": {
      "text/plain": [
       "(torch.Size([1, 48350976]), 16000)"
      ]
     },
     "execution_count": 43,
     "metadata": {},
     "output_type": "execute_result"
    }
   ],
   "source": [
    "#sample_aud = '/work/dpandya/LibriVox_Kaggle/BGnoise/supermarkt.wav'\n",
    "sample_aud = 'audio.wav'\n",
    "#sample_aud = '/work/dpandya/LibriVox_Kaggle/achtgesichterambiwasse/achtgesichterambiwasse_0003.wav'\n",
    "aud, sr = torchaudio.load(sample_aud)\n",
    "aud.shape, sr"
   ]
  },
  {
   "cell_type": "code",
   "execution_count": 44,
   "metadata": {},
   "outputs": [
    {
     "data": {
      "text/plain": [
       "(torch.Size([1, 24175488]), 8000)"
      ]
     },
     "execution_count": 44,
     "metadata": {},
     "output_type": "execute_result"
    }
   ],
   "source": [
    "import torchaudio.transforms as T\n",
    "\n",
    "resampler = T.Resample(sr, new_freq=8000, dtype=aud.dtype)\n",
    "resampled_aud = resampler(aud)\n",
    "sr = 8000\n",
    "resampled_aud.shape, sr"
   ]
  },
  {
   "cell_type": "code",
   "execution_count": 47,
   "metadata": {},
   "outputs": [],
   "source": [
    "resampled_aud_np = resampled_aud.squeeze().numpy()\n",
    "mfcc_feat = mfcc(resampled_aud_np[0:100*sr], sr)"
   ]
  }
 ],
 "metadata": {
  "kernelspec": {
   "display_name": "learning",
   "language": "python",
   "name": "python3"
  },
  "language_info": {
   "codemirror_mode": {
    "name": "ipython",
    "version": 3
   },
   "file_extension": ".py",
   "mimetype": "text/x-python",
   "name": "python",
   "nbconvert_exporter": "python",
   "pygments_lexer": "ipython3",
   "version": "3.10.12"
  },
  "orig_nbformat": 4
 },
 "nbformat": 4,
 "nbformat_minor": 2
}
