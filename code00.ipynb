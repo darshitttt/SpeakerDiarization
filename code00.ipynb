{
 "cells": [
  {
   "cell_type": "code",
   "execution_count": 2,
   "metadata": {},
   "outputs": [],
   "source": [
    "import torch\n",
    "import torchaudio\n",
    "import numpy as np\n",
    "import pandas as pd"
   ]
  },
  {
   "cell_type": "code",
   "execution_count": 3,
   "metadata": {},
   "outputs": [],
   "source": [
    "sample_audio = '/work/dpandya/LibriVox_Kaggle/meisterfloh/meisterfloh_0005.wav'\n",
    "wav, sr = torchaudio.load(sample_audio)"
   ]
  },
  {
   "cell_type": "code",
   "execution_count": 29,
   "metadata": {},
   "outputs": [
    {
     "name": "stdout",
     "output_type": "stream",
     "text": [
      "--2023-08-14 14:00:48--  https://groups.inf.ed.ac.uk/ami//ICSIsignals/NXT/Bdb001.interaction.wav\n",
      "Resolving groups.inf.ed.ac.uk (groups.inf.ed.ac.uk)... 129.215.202.26\n",
      "Connecting to groups.inf.ed.ac.uk (groups.inf.ed.ac.uk)|129.215.202.26|:443... connected.\n",
      "HTTP request sent, awaiting response... 200 OK\n",
      "Length: 96701996 (92M) [audio/x-wav]\n",
      "Saving to: 'audio.wav'\n",
      "\n",
      "wav                 100%[===================>]  92.22M  14.7MB/s    in 7.2s    \n",
      "\n",
      "2023-08-14 14:00:56 (12.7 MB/s) - 'audio.wav' saved [96701996/96701996]\n",
      "\n"
     ]
    }
   ],
   "source": [
    "!wget -P audio https://groups.inf.ed.ac.uk/ami//ICSIsignals/NXT/Bdb001.interaction.wav -O audio.wav"
   ]
  },
  {
   "cell_type": "code",
   "execution_count": 30,
   "metadata": {},
   "outputs": [
    {
     "data": {
      "text/plain": [
       "torch.Size([1, 48350976])"
      ]
     },
     "execution_count": 30,
     "metadata": {},
     "output_type": "execute_result"
    }
   ],
   "source": [
    "audio_wav  = 'audio.wav'\n",
    "wav0, sr0 = torchaudio.load(audio_wav)\n",
    "wav0.shape"
   ]
  },
  {
   "cell_type": "code",
   "execution_count": 47,
   "metadata": {},
   "outputs": [
    {
     "ename": "RuntimeError",
     "evalue": "maximum size for tensor at dimension 1 is 19 but size is 30",
     "output_type": "error",
     "traceback": [
      "\u001b[0;31m---------------------------------------------------------------------------\u001b[0m",
      "\u001b[0;31mRuntimeError\u001b[0m                              Traceback (most recent call last)",
      "Cell \u001b[0;32mIn[47], line 12\u001b[0m\n\u001b[1;32m     10\u001b[0m aud_win \u001b[39m=\u001b[39m wav0\u001b[39m.\u001b[39msqueeze()[i:(i\u001b[39m+\u001b[39mwindow)]\n\u001b[1;32m     11\u001b[0m \u001b[39m#print(len(aud_win), aud_win.median())\u001b[39;00m\n\u001b[0;32m---> 12\u001b[0m pitch \u001b[39m=\u001b[39m F\u001b[39m.\u001b[39;49mdetect_pitch_frequency(aud_win\u001b[39m.\u001b[39;49munsqueeze(\u001b[39m0\u001b[39;49m), sr0)\n\u001b[1;32m     13\u001b[0m \u001b[39mprint\u001b[39m(pitch\u001b[39m.\u001b[39msqueeze())\n",
      "File \u001b[0;32m/work/dpandya/miniconda3/envs/irsolve/lib/python3.10/site-packages/torchaudio/functional/functional.py:1123\u001b[0m, in \u001b[0;36mdetect_pitch_frequency\u001b[0;34m(waveform, sample_rate, frame_time, win_length, freq_low, freq_high)\u001b[0m\n\u001b[1;32m   1121\u001b[0m nccf \u001b[39m=\u001b[39m _compute_nccf(waveform, sample_rate, frame_time, freq_low)\n\u001b[1;32m   1122\u001b[0m indices \u001b[39m=\u001b[39m _find_max_per_frame(nccf, sample_rate, freq_high)\n\u001b[0;32m-> 1123\u001b[0m indices \u001b[39m=\u001b[39m _median_smoothing(indices, win_length)\n\u001b[1;32m   1125\u001b[0m \u001b[39m# Convert indices to frequency\u001b[39;00m\n\u001b[1;32m   1126\u001b[0m EPSILON \u001b[39m=\u001b[39m \u001b[39m10\u001b[39m \u001b[39m*\u001b[39m\u001b[39m*\u001b[39m (\u001b[39m-\u001b[39m\u001b[39m9\u001b[39m)\n",
      "File \u001b[0;32m/work/dpandya/miniconda3/envs/irsolve/lib/python3.10/site-packages/torchaudio/functional/functional.py:1084\u001b[0m, in \u001b[0;36m_median_smoothing\u001b[0;34m(indices, win_length)\u001b[0m\n\u001b[1;32m   1081\u001b[0m indices \u001b[39m=\u001b[39m torch\u001b[39m.\u001b[39mnn\u001b[39m.\u001b[39mfunctional\u001b[39m.\u001b[39mpad(indices, (pad_length, \u001b[39m0\u001b[39m), mode\u001b[39m=\u001b[39m\u001b[39m\"\u001b[39m\u001b[39mconstant\u001b[39m\u001b[39m\"\u001b[39m, value\u001b[39m=\u001b[39m\u001b[39m0.0\u001b[39m)\n\u001b[1;32m   1083\u001b[0m indices[\u001b[39m.\u001b[39m\u001b[39m.\u001b[39m\u001b[39m.\u001b[39m, :pad_length] \u001b[39m=\u001b[39m torch\u001b[39m.\u001b[39mcat(pad_length \u001b[39m*\u001b[39m [indices[\u001b[39m.\u001b[39m\u001b[39m.\u001b[39m\u001b[39m.\u001b[39m, pad_length]\u001b[39m.\u001b[39munsqueeze(\u001b[39m-\u001b[39m\u001b[39m1\u001b[39m)], dim\u001b[39m=\u001b[39m\u001b[39m-\u001b[39m\u001b[39m1\u001b[39m)\n\u001b[0;32m-> 1084\u001b[0m roll \u001b[39m=\u001b[39m indices\u001b[39m.\u001b[39;49munfold(\u001b[39m-\u001b[39;49m\u001b[39m1\u001b[39;49m, win_length, \u001b[39m1\u001b[39;49m)\n\u001b[1;32m   1086\u001b[0m values, _ \u001b[39m=\u001b[39m torch\u001b[39m.\u001b[39mmedian(roll, \u001b[39m-\u001b[39m\u001b[39m1\u001b[39m)\n\u001b[1;32m   1087\u001b[0m \u001b[39mreturn\u001b[39;00m values\n",
      "\u001b[0;31mRuntimeError\u001b[0m: maximum size for tensor at dimension 1 is 19 but size is 30"
     ]
    }
   ],
   "source": [
    "import torchaudio.functional as F\n",
    "\n",
    "window = (int)(sr0 * 0.05)\n",
    "hop = (int)(sr0 * 0.03)\n",
    "\n",
    "pitch_list = []\n",
    "\n",
    "for i in range(0, (int)(len(wav0.squeeze())), hop):\n",
    "    \n",
    "    aud_win = wav0.squeeze()[i:(i+window)]\n",
    "    #print(len(aud_win), aud_win.median())\n",
    "    pitch = F.detect_pitch_frequency(aud_win.unsqueeze(0), sr0)\n",
    "    print(pitch.squeeze())\n"
   ]
  },
  {
   "cell_type": "code",
   "execution_count": 44,
   "metadata": {},
   "outputs": [],
   "source": [
    "\n",
    "\n",
    "pitch = F.detect_pitch_frequency(wav0, sr0)"
   ]
  },
  {
   "cell_type": "code",
   "execution_count": 46,
   "metadata": {},
   "outputs": [
    {
     "data": {
      "image/png": "[encoded data removed]",
      "text/plain": [
       "<Figure size 640x480 with 1 Axes>"
      ]
     },
     "metadata": {},
     "output_type": "display_data"
    }
   ],
   "source": [
    "import matplotlib.pyplot as plt\n",
    "\n",
    "fig, axs = plt.subplots(1,1)\n",
    "end_time = wav0.shape[1]/sr0\n",
    "time = torch.linspace(0, end_time, pitch.shape[1])\n",
    "axs.plot(time, pitch[0], linewidth=2)\n",
    "plt.show(block=False)\n",
    "\n",
    "#plt.scatter(range(0,len(pitch.squeeze())), pitch.squeeze())"
   ]
  },
  {
   "cell_type": "code",
   "execution_count": 24,
   "metadata": {},
   "outputs": [],
   "source": [
    "window = (int)(sr * 0.05)\n",
    "hop = (int)(sr * 0.03)\n",
    "\n",
    "mean_list = []\n",
    "median_list = []\n",
    "std_list = []\n",
    "\n",
    "for i in range(0, (int)(len(wav.squeeze())), hop):\n",
    "    \n",
    "    aud_win = wav.squeeze()[i:(i+window)]\n",
    "    #print(len(aud_win), aud_win.median())\n",
    "    mean_list.append(aud_win.mean().numpy())\n",
    "    median_list.append(aud_win.median().numpy())\n",
    "    std_list.append(aud_win.std().numpy())\n"
   ]
  },
  {
   "cell_type": "code",
   "execution_count": 28,
   "metadata": {},
   "outputs": [
    {
     "name": "stdout",
     "output_type": "stream",
     "text": [
      "0.023450571103386005\n"
     ]
    }
   ],
   "source": [
    "import statistics\n",
    "\n",
    "mean_np = pd.Series(mean_list)\n",
    "median_np = pd.Series(median_list)\n",
    "std_np = pd.Series(std_list)\n",
    "\n",
    "print(np.std(std_np))"
   ]
  }
 ],
 "metadata": {
  "kernelspec": {
   "display_name": "irsolve",
   "language": "python",
   "name": "python3"
  },
  "language_info": {
   "codemirror_mode": {
    "name": "ipython",
    "version": 3
   },
   "file_extension": ".py",
   "mimetype": "text/x-python",
   "name": "python",
   "nbconvert_exporter": "python",
   "pygments_lexer": "ipython3",
   "version": "3.10.0"
  },
  "orig_nbformat": 4
 },
 "nbformat": 4,
 "nbformat_minor": 2
}
