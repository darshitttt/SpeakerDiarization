{
 "cells": [
  {
   "cell_type": "code",
   "execution_count": 3,
   "metadata": {},
   "outputs": [],
   "source": [
    "import torch\n",
    "import torch.nn as nn\n",
    "import torch.optim as optim\n",
    "from torch.utils.data import Dataset, DataLoader, random_split\n",
    "import torchaudio\n",
    "import torchaudio.transforms as T\n",
    "import torchaudio.functional as F\n",
    "import textgrids\n",
    "import pandas as pd\n",
    "import numpy as np\n",
    "from sklearn.metrics import accuracy_score, f1_score\n",
    "\n",
    "SAMPLE_RATE = 16000"
   ]
  },
  {
   "cell_type": "code",
   "execution_count": 4,
   "metadata": {},
   "outputs": [],
   "source": [
    "def get_feats(signal):\n",
    "\n",
    "    features = []\n",
    "\n",
    "    MFCC = T.MFCC(SAMPLE_RATE, n_mfcc=13)\n",
    "    MelSpectrogram = T.MelSpectrogram(SAMPLE_RATE)\n",
    "    SpectralCentroid = T.SpectralCentroid(SAMPLE_RATE)\n",
    "\n",
    "    mfcc_feats = MFCC(signal).squeeze()\n",
    "    melspec_feats = MelSpectrogram(signal).squeeze()\n",
    "    spectral_centroid_feats = SpectralCentroid(signal).squeeze()\n",
    "    \n",
    "    for i in range(0, mfcc_feats.shape[0]):\n",
    "        features.append(mfcc_feats[i].mean())\n",
    "        #print(mfcc_feats[i].mean())\n",
    "\n",
    "    for j in range(0, melspec_feats.shape[0]):\n",
    "        features.append(melspec_feats[j].mean())\n",
    "    \n",
    "    features.extend(spectral_centroid_feats)\n",
    "\n",
    "    return features"
   ]
  },
  {
   "cell_type": "code",
   "execution_count": 123,
   "metadata": {},
   "outputs": [
    {
     "data": {
      "text/plain": [
       "torch.Size([222])"
      ]
     },
     "execution_count": 123,
     "metadata": {},
     "output_type": "execute_result"
    }
   ],
   "source": [
    "ssa = torch.randn(1,16000)\n",
    "\n",
    "torch.nn.functional.normalize(torch.Tensor(get_feats(ssa)).squeeze(),dim=0).shape"
   ]
  },
  {
   "cell_type": "code",
   "execution_count": 5,
   "metadata": {},
   "outputs": [],
   "source": [
    "class AudioUtils():\n",
    "\n",
    "    def resample_audio(signal, org_sr):\n",
    "        resampler = T.Resample(org_sr, SAMPLE_RATE)\n",
    "        resampled_sig = resampler(signal)\n",
    "        return resampled_sig\n",
    "    \n",
    "    def open(aud_fn):\n",
    "        sig, sr = torchaudio.load(aud_fn)\n",
    "        duration = sig.shape[1]/sr\n",
    "        #print(sig.shape)\n",
    "        if sr != SAMPLE_RATE:\n",
    "            sig = AudioUtils.resample_audio(sig, sr)\n",
    "\n",
    "        # Converting stereo to mono\n",
    "        if sig.shape[0] == 2:\n",
    "            sig = sig.mean(dim=0).unsqueeze(0)\n",
    "        \n",
    "        if sig.shape[1]%SAMPLE_RATE == 0:\n",
    "            duration = sig.shape[1]/SAMPLE_RATE\n",
    "            sig = sig.squeeze().numpy()\n",
    "        else:\n",
    "            sig = sig.squeeze().numpy()\n",
    "            #print(sig_np.shape)\n",
    "            en = (int)((np.round(duration)+1)*SAMPLE_RATE - sig.shape[0])\n",
    "            sig = np.pad(sig, (0,en), mode = 'constant')\n",
    "            #sig = torch.from_numpy(sig_np).unsqueeze(0)\n",
    "            duration = sig.shape[0] / SAMPLE_RATE\n",
    "        \n",
    "        return sig, SAMPLE_RATE, duration\n",
    "    \n",
    "    def get_second_wise_mfcc(signal, duration):\n",
    "        mfcc_list = []\n",
    "        MFCC = T.MFCC(sample_rate=SAMPLE_RATE, n_mfcc=13)\n",
    "        for i in range(0,(int)(duration)):\n",
    "            mfcc_list.append(MFCC(signal[0][i:(i+SAMPLE_RATE)].unsqueeze(0)).squeeze())\n",
    "\n",
    "        return mfcc_list"
   ]
  },
  {
   "cell_type": "code",
   "execution_count": 6,
   "metadata": {},
   "outputs": [],
   "source": [
    "class AnnotUtils():\n",
    "\n",
    "    def get_speech_secs(fname):\n",
    "        grid = textgrids.TextGrid(fname)\n",
    "        speech_secs = []\n",
    "        for i in grid['silences']:\n",
    "            if i.text == '1':\n",
    "                #speech_secs.append([(np.round(i.xmin, decimals=2)), (np.round(i.xmax, decimals=2))])\n",
    "                speech_secs.append([(int)(np.round(i.xmin, decimals=2)), (int)(np.round(i.xmax, decimals=2))])\n",
    "        return speech_secs\n",
    "    \n",
    "\n",
    "    def get_labs_for_secs(speech_secs, duration):\n",
    "        \n",
    "        labels = [i*0 for i in range(0, (int)(duration))]\n",
    "\n",
    "        for i in range(0,len(speech_secs)):\n",
    "\n",
    "            if speech_secs[i][0] == speech_secs[i][1]:\n",
    "                labels[speech_secs[i][0]-1] = 1\n",
    "            else:\n",
    "                for j in range(speech_secs[i][0], speech_secs[i][1]):\n",
    "                    \n",
    "                    labels[j-1] = 1\n",
    "                    labels[j] = 1\n",
    "\n",
    "        return labels"
   ]
  },
  {
   "cell_type": "code",
   "execution_count": 7,
   "metadata": {},
   "outputs": [],
   "source": [
    "df2 = pd.read_csv('secWise_labs.csv')"
   ]
  },
  {
   "cell_type": "code",
   "execution_count": 18,
   "metadata": {},
   "outputs": [],
   "source": [
    "MFCC = T.MFCC(sample_rate=SAMPLE_RATE, n_mfcc=13,melkwargs={\"n_fft\": 400, \"hop_length\": 160, \"n_mels\": 23, \"center\": False})\n",
    "\n",
    "class VAD_Dataset(Dataset):\n",
    "    def __init__(self, df) -> None:\n",
    "        #super().__init__()\n",
    "        self.df = df\n",
    "        self.sr = 16000\n",
    "\n",
    "    def __len__(self):\n",
    "        return len(self.df)\n",
    "    \n",
    "    def __getitem__(self, index):\n",
    "\n",
    "        aud_part = self.df.loc[index][0]\n",
    "        labels = self.df.loc[index][1]\n",
    "        \n",
    "        if aud_part[-2] == '_':\n",
    "            n_sec = (int)(aud_part[-1])\n",
    "            aud_path = aud_part[:-2]+'.wav'\n",
    "        elif aud_part[-3] == '_':\n",
    "            n_sec = (int)(aud_part[-2:])\n",
    "            aud_path = aud_part[:-3]+'.wav'\n",
    "        \n",
    "        signal00, sam00, dur00 = AudioUtils.open(aud_path)\n",
    "        sig00 = torch.from_numpy(signal00[n_sec*SAMPLE_RATE:((n_sec+1)*SAMPLE_RATE)]).unsqueeze(0)\n",
    "        feats = get_feats(sig00)\n",
    "        \n",
    "        #mfcc_tens = MFCC(sig00).to(dtype=torch.float)\n",
    "        #labels = AnnotUtils.get_labs_for_secs(AnnotUtils.get_speech_secs(annot_path), dur)\n",
    "        feats = torch.Tensor(feats)\n",
    "        #mfcc_tens = torch.flatten(mfcc_tens)\n",
    "        \n",
    "        return feats, labels"
   ]
  },
  {
   "cell_type": "code",
   "execution_count": 19,
   "metadata": {},
   "outputs": [],
   "source": [
    "dataset = VAD_Dataset(df=df2)"
   ]
  },
  {
   "cell_type": "code",
   "execution_count": 59,
   "metadata": {},
   "outputs": [
    {
     "data": {
      "text/plain": [
       "tensor([1., 2., 6., 8., 5.])"
      ]
     },
     "execution_count": 59,
     "metadata": {},
     "output_type": "execute_result"
    }
   ],
   "source": [
    "oo = [1,2,6,8,5]\n",
    "oo = torch.Tensor(oo)\n",
    "\n",
    "oo"
   ]
  },
  {
   "cell_type": "code",
   "execution_count": 20,
   "metadata": {},
   "outputs": [],
   "source": [
    "num_items = len(dataset)\n",
    "num_train = round(num_items * 0.8)\n",
    "num_val = num_items - num_train\n",
    "train_ds, val_ds = random_split(dataset, [num_train, num_val])"
   ]
  },
  {
   "cell_type": "code",
   "execution_count": 21,
   "metadata": {},
   "outputs": [],
   "source": [
    "torch.manual_seed(13)\n",
    "torch.cuda.manual_seed(13)\n",
    "\n",
    "train_loader = DataLoader(\n",
    "    train_ds, \n",
    "    batch_size=32, \n",
    "    shuffle=True,\n",
    "    )\n",
    "test_loader = DataLoader(\n",
    "    val_ds, \n",
    "    batch_size=32, \n",
    "    shuffle=True\n",
    "    )"
   ]
  },
  {
   "cell_type": "code",
   "execution_count": 23,
   "metadata": {},
   "outputs": [
    {
     "name": "stdout",
     "output_type": "stream",
     "text": [
      "torch.Size([32, 222]) torch.int64\n",
      "torch.Size([32, 222]) torch.int64\n",
      "torch.Size([32, 222]) torch.int64\n",
      "torch.Size([32, 222]) torch.int64\n",
      "torch.Size([32, 222]) torch.int64\n",
      "torch.Size([32, 222]) torch.int64\n",
      "torch.Size([32, 222]) torch.int64\n",
      "torch.Size([32, 222]) torch.int64\n",
      "torch.Size([32, 222]) torch.int64\n",
      "torch.Size([32, 222]) torch.int64\n",
      "torch.Size([32, 222]) torch.int64\n",
      "torch.Size([32, 222]) torch.int64\n",
      "torch.Size([32, 222]) torch.int64\n",
      "torch.Size([32, 222]) torch.int64\n",
      "torch.Size([32, 222]) torch.int64\n",
      "torch.Size([32, 222]) torch.int64\n",
      "torch.Size([32, 222]) torch.int64\n",
      "torch.Size([32, 222]) torch.int64\n",
      "torch.Size([32, 222]) torch.int64\n",
      "torch.Size([32, 222]) torch.int64\n",
      "torch.Size([32, 222]) torch.int64\n",
      "torch.Size([32, 222]) torch.int64\n",
      "torch.Size([32, 222]) torch.int64\n",
      "torch.Size([32, 222]) torch.int64\n",
      "torch.Size([12, 222]) torch.int64\n"
     ]
    }
   ],
   "source": [
    "for inputs, labels in test_loader:\n",
    "    print(inputs.shape, labels.dtype)"
   ]
  },
  {
   "cell_type": "code",
   "execution_count": 25,
   "metadata": {},
   "outputs": [
    {
     "data": {
      "text/plain": [
       "tensor([-7.1260e+02, -5.1048e+00,  4.2926e-01, -3.6796e+00, -8.1637e+00,\n",
       "        -3.3296e+00, -5.8317e+00, -2.5638e+00, -4.5651e+00, -5.3132e-01,\n",
       "        -3.1790e+00, -3.2634e-01, -3.6515e+00,  0.0000e+00,  1.2397e-05,\n",
       "         6.6746e-05,  0.0000e+00,  2.3214e-05,  2.6933e-05,  0.0000e+00,\n",
       "         2.6091e-05,  2.8571e-06,  4.8581e-06,  5.5949e-06,  1.0981e-06,\n",
       "         6.9628e-06,  0.0000e+00,  4.1414e-06,  4.1027e-07,  3.0381e-06,\n",
       "         8.6939e-07,  2.5001e-06,  9.2541e-07,  2.1684e-06,  6.8253e-07,\n",
       "         1.9716e-06,  4.0196e-07,  2.5458e-06,  7.0445e-07,  1.8971e-06,\n",
       "         1.3292e-06,  1.0244e-06,  1.6156e-06,  6.5729e-07,  1.0984e-06,\n",
       "         1.0285e-06,  6.6421e-07,  9.9493e-07,  1.1352e-06,  8.2644e-07,\n",
       "         8.9646e-07,  1.3203e-06,  7.3814e-07,  7.2106e-07,  7.0390e-07,\n",
       "         1.0820e-06,  8.0269e-07,  7.2209e-07,  7.2177e-07,  7.6267e-07,\n",
       "         8.4216e-07,  8.8391e-07,  7.5846e-07,  6.2674e-07,  6.2656e-07,\n",
       "         7.1407e-07,  7.4889e-07,  7.5021e-07,  7.5092e-07,  7.2022e-07,\n",
       "         6.4887e-07,  6.0711e-07,  6.3269e-07,  5.0590e-07,  6.1491e-07,\n",
       "         6.9546e-07,  6.7313e-07,  6.1093e-07,  6.2249e-07,  6.1695e-07,\n",
       "         5.7895e-07,  7.1006e-07,  6.6254e-07,  6.3128e-07,  7.2316e-07,\n",
       "         5.4617e-07,  5.3321e-07,  5.9605e-07,  5.8727e-07,  5.9324e-07,\n",
       "         6.4632e-07,  6.8066e-07,  9.6231e-07,  9.5679e-07,  8.8134e-07,\n",
       "         8.7036e-07,  8.3930e-07,  7.1983e-07,  6.1859e-07,  6.2024e-07,\n",
       "         6.6771e-07,  7.0374e-07,  8.7066e-07,  9.1228e-07,  8.1719e-07,\n",
       "         8.0879e-07,  1.0771e-06,  9.8645e-07,  7.7663e-07,  1.0272e-06,\n",
       "         1.1169e-06,  1.2482e-06,  1.1326e-06,  9.1685e-07,  9.9633e-07,\n",
       "         8.1188e-07,  8.2520e-07,  7.6142e-07,  7.0864e-07,  8.2924e-07,\n",
       "         8.9023e-07,  7.4278e-07,  7.0655e-07,  7.5107e-07,  9.9831e-07,\n",
       "         9.1208e-07,  9.0802e-07,  9.3392e-07,  9.3425e-07,  8.6392e-07,\n",
       "         7.9369e-07,  8.0552e-07,  7.0561e-07,  6.2128e-07,  6.6122e-07,\n",
       "         6.2728e-07,  5.0427e-07,  5.3673e-07,  4.3899e-07,  4.6437e-07,\n",
       "         4.6878e-07,  2.9294e+03,  2.5403e+03,  2.2064e+03,  2.0359e+03,\n",
       "         2.7016e+03,  2.6497e+03,  2.8523e+03,  2.8051e+03,  2.4604e+03,\n",
       "         2.4705e+03,  2.7659e+03,  2.4333e+03,  2.6235e+03,  2.3961e+03,\n",
       "         2.3499e+03,  2.3953e+03,  2.4491e+03,  2.5556e+03,  2.7436e+03,\n",
       "         2.9710e+03,  2.6914e+03,  2.4261e+03,  2.6976e+03,  2.9272e+03,\n",
       "         2.4017e+03,  2.7488e+03,  2.5480e+03,  2.0123e+03,  2.7420e+03,\n",
       "         2.8028e+03,  2.5796e+03,  2.5028e+03,  2.3617e+03,  2.3083e+03,\n",
       "         2.4584e+03,  2.6105e+03,  2.4841e+03,  2.3365e+03,  2.1971e+03,\n",
       "         2.5435e+03,  2.2456e+03,  2.5528e+03,  2.6728e+03,  2.5481e+03,\n",
       "         2.6989e+03,  3.0184e+03,  2.5153e+03,  2.7927e+03,  2.8813e+03,\n",
       "         2.2622e+03,  2.3216e+03,  2.4670e+03,  2.4117e+03,  2.9002e+03,\n",
       "         2.6002e+03,  2.7665e+03,  2.7986e+03,  2.8012e+03,  2.6844e+03,\n",
       "         2.7883e+03,  2.7032e+03,  2.4572e+03,  2.5234e+03,  2.2944e+03,\n",
       "         2.5671e+03,  2.3843e+03,  2.4361e+03,  2.7710e+03,  2.9643e+03,\n",
       "         2.1729e+03,  2.2232e+03,  2.4188e+03,  2.6126e+03,  2.6553e+03,\n",
       "         2.7611e+03,  2.4655e+03,  2.5570e+03,  2.8928e+03,  2.5135e+03,\n",
       "         2.5008e+03,  2.6508e+03])"
      ]
     },
     "execution_count": 25,
     "metadata": {},
     "output_type": "execute_result"
    }
   ],
   "source": [
    "inputs[0]"
   ]
  },
  {
   "cell_type": "code",
   "execution_count": 26,
   "metadata": {},
   "outputs": [],
   "source": [
    "def acc_fn(lab, pred):\n",
    "    pred = torch.round(pred)\n",
    "    correct = (lab == pred).float()\n",
    "    return correct.mean().item()"
   ]
  },
  {
   "cell_type": "code",
   "execution_count": 17,
   "metadata": {},
   "outputs": [
    {
     "name": "stdout",
     "output_type": "stream",
     "text": [
      "tensor([0.5161, 0.4964, 0.4924, 0.4932, 0.4706, 0.4831, 0.5080, 0.4907, 0.4903,\n",
      "        0.4869, 0.4872, 0.5047, 0.5026, 0.5171, 0.5092, 0.4767, 0.4666, 0.4721,\n",
      "        0.4947, 0.5098, 0.5021, 0.5025, 0.4994, 0.5217, 0.4911, 0.4733, 0.4889,\n",
      "        0.4744, 0.4906, 0.4843, 0.4944, 0.4890], grad_fn=<SqueezeBackward0>)\n"
     ]
    }
   ],
   "source": [
    "ssoo = torch.randn(32,222)\n",
    "\n",
    "lin1 = nn.Linear(222, 111)\n",
    "ac1 = nn.ReLU()\n",
    "lin2 = nn.Linear(111, 50)\n",
    "ac2 = nn.ReLU()\n",
    "lin3 = nn.Linear(50, 1)\n",
    "sig = nn.Sigmoid()\n",
    "\n",
    "x = lin3(ac2(lin2(ac1(lin1(ssoo)))))\n",
    "x = sig(x)\n",
    "\n",
    "print((x.squeeze()))"
   ]
  },
  {
   "cell_type": "code",
   "execution_count": 27,
   "metadata": {},
   "outputs": [],
   "source": [
    "torch.manual_seed(13)\n",
    "torch.cuda.manual_seed(13)\n",
    "\n",
    "class FFNNwithFeats(nn.Module):\n",
    "    def __init__(self) -> None:\n",
    "        super(FFNNwithFeats, self).__init__()\n",
    "\n",
    "        self.lin1 = nn.Linear(222, 111)\n",
    "        self.ac1 = nn.ReLU()\n",
    "        self.bn1 = nn.BatchNorm1d(111)\n",
    "\n",
    "        self.lin2 = nn.Linear(111, 50)\n",
    "        self.ac2 = nn.ReLU()\n",
    "        self.bn2 = nn.BatchNorm1d(50)\n",
    "\n",
    "        self.lin3 = nn.Linear(50, 1)\n",
    "        self.sig = nn.Sigmoid()\n",
    "\n",
    "    def forward(self, x):\n",
    "        x = self.bn1(self.ac1(self.lin1(x)))\n",
    "        x = self.bn2(self.ac2(self.lin2(x)))\n",
    "        x = self.sig(x)\n",
    "        return x\n"
   ]
  },
  {
   "cell_type": "code",
   "execution_count": 131,
   "metadata": {},
   "outputs": [
    {
     "name": "stdout",
     "output_type": "stream",
     "text": [
      "tensor([[0.5063],\n",
      "        [0.5229],\n",
      "        [0.5292],\n",
      "        [0.5230],\n",
      "        [0.5234]]) torch.Size([5, 1]) torch.float32 tensor([1, 1, 1, 0, 0]) torch.int64\n"
     ]
    },
    {
     "data": {
      "text/plain": [
       "tensor(0.6894)"
      ]
     },
     "execution_count": 131,
     "metadata": {},
     "output_type": "execute_result"
    }
   ],
   "source": [
    "criterion = nn.BCELoss()\n",
    "model = FFNNwithFeats()\n",
    "rand = torch.randn(5,222)\n",
    "\n",
    "model.eval()\n",
    "with torch.inference_mode():\n",
    "    out = model(rand)\n",
    "\n",
    "print(out, out.shape, out.dtype, labels[0:5], labels[0:5].dtype)\n",
    "\n",
    "loss = criterion(out.squeeze(), labels[0:5].float())\n",
    "loss"
   ]
  },
  {
   "cell_type": "code",
   "execution_count": 28,
   "metadata": {},
   "outputs": [],
   "source": [
    "#torch.cuda.empty_cache()\n",
    "#device = 'cuda' if torch.cuda.is_available() else 'cpu'\n",
    "device = 'cpu'\n",
    "\n",
    "model00 = FFNNwithFeats().to(device)\n",
    "\n",
    "criterion = nn.BCELoss()\n",
    "#criterion = nn.BCEWithLogitsLoss()\n",
    "optimizer = optim.SGD(model00.parameters(), lr=0.001)\n",
    "#optimizer = optim.Adam(model00.parameters(), lr=0.001)"
   ]
  },
  {
   "cell_type": "code",
   "execution_count": 29,
   "metadata": {},
   "outputs": [
    {
     "name": "stderr",
     "output_type": "stream",
     "text": [
      "/work/dpandya/miniconda3/envs/learning/lib/python3.10/site-packages/torchaudio/functional/functional.py:571: UserWarning: At least one mel filterbank has all zero values. The value for `n_mels` (128) may be set too high. Or, the value for `n_freqs` (201) may be set too low.\n",
      "  warnings.warn(\n"
     ]
    },
    {
     "name": "stdout",
     "output_type": "stream",
     "text": [
      "tensor([[nan, nan, nan,  ..., nan, nan, nan],\n",
      "        [nan, nan, nan,  ..., nan, nan, nan],\n",
      "        [nan, nan, nan,  ..., nan, nan, nan],\n",
      "        ...,\n",
      "        [nan, nan, nan,  ..., nan, nan, nan],\n",
      "        [nan, nan, nan,  ..., nan, nan, nan],\n",
      "        [nan, nan, nan,  ..., nan, nan, nan]], grad_fn=<SqueezeBackward0>) tensor([1., 1., 1., 1., 1., 1., 0., 0., 1., 1., 1., 0., 1., 1., 1., 1., 0., 0.,\n",
      "        0., 1., 0., 1., 0., 0., 0., 1., 0., 0., 0., 1., 1., 1.])\n"
     ]
    },
    {
     "ename": "ValueError",
     "evalue": "Using a target size (torch.Size([32])) that is different to the input size (torch.Size([32, 50])) is deprecated. Please ensure they have the same size.",
     "output_type": "error",
     "traceback": [
      "\u001b[0;31m---------------------------------------------------------------------------\u001b[0m",
      "\u001b[0;31mValueError\u001b[0m                                Traceback (most recent call last)",
      "\u001b[1;32m/work/dpandya/giggityGit/SpeakerDiarization/VADKaggle_convNN.ipynb Cell 19\u001b[0m line \u001b[0;36m2\n\u001b[1;32m     <a href='vscode-notebook-cell://ssh-remote%2Bdws-04.informatik.uni-mannheim.de/work/dpandya/giggityGit/SpeakerDiarization/VADKaggle_convNN.ipynb#X23sdnNjb2RlLXJlbW90ZQ%3D%3D?line=20'>21</a>\u001b[0m outputs \u001b[39m=\u001b[39m model00(inputs)\n\u001b[1;32m     <a href='vscode-notebook-cell://ssh-remote%2Bdws-04.informatik.uni-mannheim.de/work/dpandya/giggityGit/SpeakerDiarization/VADKaggle_convNN.ipynb#X23sdnNjb2RlLXJlbW90ZQ%3D%3D?line=21'>22</a>\u001b[0m \u001b[39mprint\u001b[39m(outputs\u001b[39m.\u001b[39msqueeze(), labels\u001b[39m.\u001b[39mfloat())\n\u001b[0;32m---> <a href='vscode-notebook-cell://ssh-remote%2Bdws-04.informatik.uni-mannheim.de/work/dpandya/giggityGit/SpeakerDiarization/VADKaggle_convNN.ipynb#X23sdnNjb2RlLXJlbW90ZQ%3D%3D?line=22'>23</a>\u001b[0m loss \u001b[39m=\u001b[39m criterion(outputs\u001b[39m.\u001b[39;49msqueeze(), labels\u001b[39m.\u001b[39;49mfloat())\n\u001b[1;32m     <a href='vscode-notebook-cell://ssh-remote%2Bdws-04.informatik.uni-mannheim.de/work/dpandya/giggityGit/SpeakerDiarization/VADKaggle_convNN.ipynb#X23sdnNjb2RlLXJlbW90ZQ%3D%3D?line=24'>25</a>\u001b[0m loss\u001b[39m.\u001b[39mbackward()\n\u001b[1;32m     <a href='vscode-notebook-cell://ssh-remote%2Bdws-04.informatik.uni-mannheim.de/work/dpandya/giggityGit/SpeakerDiarization/VADKaggle_convNN.ipynb#X23sdnNjb2RlLXJlbW90ZQ%3D%3D?line=25'>26</a>\u001b[0m optimizer\u001b[39m.\u001b[39mstep()\n",
      "File \u001b[0;32m/work/dpandya/miniconda3/envs/learning/lib/python3.10/site-packages/torch/nn/modules/module.py:1194\u001b[0m, in \u001b[0;36mModule._call_impl\u001b[0;34m(self, *input, **kwargs)\u001b[0m\n\u001b[1;32m   1190\u001b[0m \u001b[39m# If we don't have any hooks, we want to skip the rest of the logic in\u001b[39;00m\n\u001b[1;32m   1191\u001b[0m \u001b[39m# this function, and just call forward.\u001b[39;00m\n\u001b[1;32m   1192\u001b[0m \u001b[39mif\u001b[39;00m \u001b[39mnot\u001b[39;00m (\u001b[39mself\u001b[39m\u001b[39m.\u001b[39m_backward_hooks \u001b[39mor\u001b[39;00m \u001b[39mself\u001b[39m\u001b[39m.\u001b[39m_forward_hooks \u001b[39mor\u001b[39;00m \u001b[39mself\u001b[39m\u001b[39m.\u001b[39m_forward_pre_hooks \u001b[39mor\u001b[39;00m _global_backward_hooks\n\u001b[1;32m   1193\u001b[0m         \u001b[39mor\u001b[39;00m _global_forward_hooks \u001b[39mor\u001b[39;00m _global_forward_pre_hooks):\n\u001b[0;32m-> 1194\u001b[0m     \u001b[39mreturn\u001b[39;00m forward_call(\u001b[39m*\u001b[39;49m\u001b[39minput\u001b[39;49m, \u001b[39m*\u001b[39;49m\u001b[39m*\u001b[39;49mkwargs)\n\u001b[1;32m   1195\u001b[0m \u001b[39m# Do not call functions when jit is used\u001b[39;00m\n\u001b[1;32m   1196\u001b[0m full_backward_hooks, non_full_backward_hooks \u001b[39m=\u001b[39m [], []\n",
      "File \u001b[0;32m/work/dpandya/miniconda3/envs/learning/lib/python3.10/site-packages/torch/nn/modules/loss.py:619\u001b[0m, in \u001b[0;36mBCELoss.forward\u001b[0;34m(self, input, target)\u001b[0m\n\u001b[1;32m    618\u001b[0m \u001b[39mdef\u001b[39;00m \u001b[39mforward\u001b[39m(\u001b[39mself\u001b[39m, \u001b[39minput\u001b[39m: Tensor, target: Tensor) \u001b[39m-\u001b[39m\u001b[39m>\u001b[39m Tensor:\n\u001b[0;32m--> 619\u001b[0m     \u001b[39mreturn\u001b[39;00m F\u001b[39m.\u001b[39;49mbinary_cross_entropy(\u001b[39minput\u001b[39;49m, target, weight\u001b[39m=\u001b[39;49m\u001b[39mself\u001b[39;49m\u001b[39m.\u001b[39;49mweight, reduction\u001b[39m=\u001b[39;49m\u001b[39mself\u001b[39;49m\u001b[39m.\u001b[39;49mreduction)\n",
      "File \u001b[0;32m/work/dpandya/miniconda3/envs/learning/lib/python3.10/site-packages/torch/nn/functional.py:3086\u001b[0m, in \u001b[0;36mbinary_cross_entropy\u001b[0;34m(input, target, weight, size_average, reduce, reduction)\u001b[0m\n\u001b[1;32m   3084\u001b[0m     reduction_enum \u001b[39m=\u001b[39m _Reduction\u001b[39m.\u001b[39mget_enum(reduction)\n\u001b[1;32m   3085\u001b[0m \u001b[39mif\u001b[39;00m target\u001b[39m.\u001b[39msize() \u001b[39m!=\u001b[39m \u001b[39minput\u001b[39m\u001b[39m.\u001b[39msize():\n\u001b[0;32m-> 3086\u001b[0m     \u001b[39mraise\u001b[39;00m \u001b[39mValueError\u001b[39;00m(\n\u001b[1;32m   3087\u001b[0m         \u001b[39m\"\u001b[39m\u001b[39mUsing a target size (\u001b[39m\u001b[39m{}\u001b[39;00m\u001b[39m) that is different to the input size (\u001b[39m\u001b[39m{}\u001b[39;00m\u001b[39m) is deprecated. \u001b[39m\u001b[39m\"\u001b[39m\n\u001b[1;32m   3088\u001b[0m         \u001b[39m\"\u001b[39m\u001b[39mPlease ensure they have the same size.\u001b[39m\u001b[39m\"\u001b[39m\u001b[39m.\u001b[39mformat(target\u001b[39m.\u001b[39msize(), \u001b[39minput\u001b[39m\u001b[39m.\u001b[39msize())\n\u001b[1;32m   3089\u001b[0m     )\n\u001b[1;32m   3091\u001b[0m \u001b[39mif\u001b[39;00m weight \u001b[39mis\u001b[39;00m \u001b[39mnot\u001b[39;00m \u001b[39mNone\u001b[39;00m:\n\u001b[1;32m   3092\u001b[0m     new_size \u001b[39m=\u001b[39m _infer_size(target\u001b[39m.\u001b[39msize(), weight\u001b[39m.\u001b[39msize())\n",
      "\u001b[0;31mValueError\u001b[0m: Using a target size (torch.Size([32])) that is different to the input size (torch.Size([32, 50])) is deprecated. Please ensure they have the same size."
     ]
    }
   ],
   "source": [
    "import statistics\n",
    "\n",
    "torch.manual_seed(13)\n",
    "torch.cuda.manual_seed(13)\n",
    "\n",
    "epochs = 20\n",
    "\n",
    "for epoch in range(epochs):\n",
    "\n",
    "    acc = []\n",
    "\n",
    "    for batch in train_loader:\n",
    "\n",
    "        inputs, labels = batch\n",
    "\n",
    "        inputs = inputs.to(device)\n",
    "        labels = labels.to(device)\n",
    "\n",
    "        model00.train()\n",
    "        #outputs = torch.round(model00(inputs))\n",
    "        outputs = model00(inputs)\n",
    "        print(outputs.squeeze(), labels.float())\n",
    "        loss = criterion(outputs.squeeze(), labels.float())\n",
    "\n",
    "        loss.backward()\n",
    "        optimizer.step()\n",
    "        optimizer.zero_grad()\n",
    "\n",
    "        acc.append(acc_fn(labels.float(), outputs.float()))\n",
    "\n",
    "    accuracie = statistics.mean(acc)\n",
    "\n",
    "    print(f'Epoch [{epoch+1}/{epochs}], Accuracy: {accuracie}, Loss: {loss}')"
   ]
  },
  {
   "cell_type": "code",
   "execution_count": null,
   "metadata": {},
   "outputs": [],
   "source": []
  },
  {
   "cell_type": "code",
   "execution_count": 28,
   "metadata": {},
   "outputs": [
    {
     "name": "stdout",
     "output_type": "stream",
     "text": [
      "torch.Size([32, 1])\n"
     ]
    },
    {
     "data": {
      "text/plain": [
       "torch.Size([32])"
      ]
     },
     "execution_count": 28,
     "metadata": {},
     "output_type": "execute_result"
    }
   ],
   "source": [
    "sampl = torch.randn(32,1,13,81)\n",
    "\n",
    "l1 = nn.Conv2d(1,32,kernel_size=(3,3), padding=(1,1))\n",
    "relu = nn.ReLU()\n",
    "maxp1 = nn.MaxPool2d(kernel_size=(2,2))\n",
    "\n",
    "# --------------------------------- #\n",
    "\n",
    "l2 = nn.Conv2d(32, 64, kernel_size=(3,3), padding=(1,1))\n",
    "maxp2 = nn.MaxPool2d(kernel_size=(2,2))\n",
    "\n",
    "l3 = nn.Conv2d(64, 128, kernel_size=(3,3), padding=(1,1))\n",
    "maxp3 = nn.MaxPool2d(kernel_size=(3,3))\n",
    "\n",
    "linear = nn.Linear(768, 1)\n",
    "sigmoid = nn.Sigmoid()\n",
    "\n",
    "x = maxp1(relu(l1(sampl)))\n",
    "x = maxp2(relu(l2(x)))\n",
    "x = maxp3(relu(l3(x)))\n",
    "x = x.view(x.size(0), -1)\n",
    "x = sigmoid(linear(x))\n",
    "\n",
    "print(x.shape)\n",
    "\n",
    "#x = sigmoid(linear(x)).squeeze()\n",
    "\n",
    "# (torch.Size([32, 13, 4, 27]), torch.Size([32, 1404]))\n",
    "\n",
    "x.squeeze().shape"
   ]
  },
  {
   "cell_type": "code",
   "execution_count": 29,
   "metadata": {},
   "outputs": [],
   "source": [
    "torch.manual_seed(13)\n",
    "torch.cuda.manual_seed(13)\n",
    "\n",
    "class ConvVAD(nn.Module):\n",
    "    def __init__(self) -> None:\n",
    "        super(ConvVAD, self).__init__()\n",
    "\n",
    "        self.l1 = nn.Conv2d(1,32,kernel_size=(3,3), padding=(1,1))\n",
    "        self.relu = nn.ReLU()\n",
    "        self.maxp1 = nn.MaxPool2d(kernel_size=(2,2))\n",
    "\n",
    "        # --------------------------------- #\n",
    "\n",
    "        self.l2 = nn.Conv2d(32, 64, kernel_size=(3,3), padding=(1,1))\n",
    "        self.maxp2 = nn.MaxPool2d(kernel_size=(2,2))\n",
    "\n",
    "        # --------------------------------- #\n",
    "        \n",
    "        self.l3 = nn.Conv2d(64, 128, kernel_size=(3,3), padding=(1,1))\n",
    "        self.maxp3 = nn.MaxPool2d(kernel_size=(3,3))\n",
    "\n",
    "        self.linear = nn.Linear(768, 1)\n",
    "        self.sigmoid = nn.Sigmoid()\n",
    "\n",
    "    def forward(self, x):\n",
    "        \n",
    "        x = self.maxp1(self.relu(self.l1(x)))\n",
    "        x = self.maxp2(self.relu(self.l2(x)))\n",
    "        x = self.maxp3(self.relu(self.l3(x)))\n",
    "        x = x.view(x.size(0), -1)\n",
    "        x = self.sigmoid(self.linear(x)).squeeze()\n",
    "\n",
    "        return x"
   ]
  },
  {
   "cell_type": "code",
   "execution_count": 33,
   "metadata": {},
   "outputs": [],
   "source": [
    "torch.cuda.empty_cache()\n",
    "device = 'cuda:1' if torch.cuda.is_available() else 'cpu'\n",
    "\n",
    "model00 = ConvVAD().to(device)\n",
    "\n",
    "criterion = nn.BCELoss()\n",
    "#optimizer = optim.SGD(model00.parameters(), lr=0.001)\n",
    "optimizer = optim.Adam(model00.parameters(), lr=0.001)"
   ]
  },
  {
   "cell_type": "code",
   "execution_count": 34,
   "metadata": {},
   "outputs": [
    {
     "name": "stdout",
     "output_type": "stream",
     "text": [
      "Epoch [1/20], Accuracy: 0.360604956441996, Loss: 78.5714340209961\n",
      "Epoch [2/20], Accuracy: 0.3622448979591837, Loss: 50.000003814697266\n",
      "Epoch [3/20], Accuracy: 0.3622448979591837, Loss: 50.000003814697266\n",
      "Epoch [4/20], Accuracy: 0.3614249272005899, Loss: 64.28572082519531\n",
      "Epoch [5/20], Accuracy: 0.3597849854553232, Loss: 92.85714721679688\n",
      "Epoch [6/20], Accuracy: 0.3634748544011797, Loss: 28.571430206298828\n",
      "Epoch [7/20], Accuracy: 0.3614249272005899, Loss: 64.28572082519531\n",
      "Epoch [8/20], Accuracy: 0.360604956441996, Loss: 78.5714340209961\n",
      "Epoch [9/20], Accuracy: 0.36101494182129296, Loss: 71.42857360839844\n",
      "Epoch [10/20], Accuracy: 0.360604956441996, Loss: 78.5714340209961\n",
      "Epoch [11/20], Accuracy: 0.360604956441996, Loss: 78.5714340209961\n",
      "Epoch [12/20], Accuracy: 0.3622448979591837, Loss: 50.000003814697266\n",
      "Epoch [13/20], Accuracy: 0.3622448979591837, Loss: 50.000003814697266\n",
      "Epoch [14/20], Accuracy: 0.3622448979591837, Loss: 50.000003814697266\n",
      "Epoch [15/20], Accuracy: 0.36101494182129296, Loss: 71.42857360839844\n",
      "Epoch [16/20], Accuracy: 0.3618349128839921, Loss: 57.142860412597656\n",
      "Epoch [17/20], Accuracy: 0.3614249272005899, Loss: 64.28572082519531\n",
      "Epoch [18/20], Accuracy: 0.3614249272005899, Loss: 64.28572082519531\n",
      "Epoch [19/20], Accuracy: 0.36101494182129296, Loss: 71.42857360839844\n",
      "Epoch [20/20], Accuracy: 0.3626548836425859, Loss: 42.85714340209961\n"
     ]
    }
   ],
   "source": [
    "import statistics\n",
    "\n",
    "torch.manual_seed(13)\n",
    "torch.cuda.manual_seed(13)\n",
    "\n",
    "epochs = 20\n",
    "\n",
    "for epoch in range(epochs):\n",
    "\n",
    "    acc = []\n",
    "\n",
    "    for batch in train_loader:\n",
    "\n",
    "        inputs, labels = batch\n",
    "\n",
    "        inputs = inputs.to(device)\n",
    "        labels = labels.to(device, dtype=torch.float)\n",
    "\n",
    "        model00.train()\n",
    "        outputs = torch.round(model00(inputs))\n",
    "        loss = criterion(outputs.float(), labels.float())\n",
    "\n",
    "        loss.backward()\n",
    "        optimizer.step()\n",
    "        optimizer.zero_grad()\n",
    "\n",
    "        acc.append(acc_fn(labels.float(), outputs.float()))\n",
    "\n",
    "    accuracie = statistics.mean(acc)\n",
    "\n",
    "    print(f'Epoch [{epoch+1}/{epochs}], Accuracy: {accuracie}, Loss: {loss}')\n"
   ]
  },
  {
   "cell_type": "code",
   "execution_count": 35,
   "metadata": {},
   "outputs": [
    {
     "name": "stdout",
     "output_type": "stream",
     "text": [
      "0.3591666668653488\n"
     ]
    }
   ],
   "source": [
    "test_acc = []\n",
    "for batch in test_loader:\n",
    "\n",
    "    \n",
    "    inputs, labels = batch\n",
    "\n",
    "    inputs = inputs.to(device)\n",
    "    labels = labels.to(device, dtype=torch.float)\n",
    "\n",
    "    model00.eval()\n",
    "    with torch.inference_mode():\n",
    "        y_preds = torch.round(model00(inputs))\n",
    "\n",
    "    test_acc.append(acc_fn(labels.float(), y_preds.float()))\n",
    "\n",
    "print(statistics.mean(test_acc))"
   ]
  }
 ],
 "metadata": {
  "kernelspec": {
   "display_name": "learning",
   "language": "python",
   "name": "python3"
  },
  "language_info": {
   "codemirror_mode": {
    "name": "ipython",
    "version": 3
   },
   "file_extension": ".py",
   "mimetype": "text/x-python",
   "name": "python",
   "nbconvert_exporter": "python",
   "pygments_lexer": "ipython3",
   "version": "3.10.12"
  },
  "orig_nbformat": 4
 },
 "nbformat": 4,
 "nbformat_minor": 2
}
