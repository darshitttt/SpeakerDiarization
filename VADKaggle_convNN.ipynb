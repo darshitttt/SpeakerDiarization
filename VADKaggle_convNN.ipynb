{
 "cells": [
  {
   "cell_type": "code",
   "execution_count": 2,
   "metadata": {},
   "outputs": [],
   "source": [
    "import torch\n",
    "import torch.nn as nn\n",
    "import torch.optim as optim\n",
    "from torch.utils.data import Dataset, DataLoader, random_split\n",
    "import torchaudio\n",
    "import torchaudio.transforms as T\n",
    "import textgrids\n",
    "import pandas as pd\n",
    "import numpy as np\n",
    "from sklearn.metrics import accuracy_score, f1_score\n",
    "\n",
    "SAMPLE_RATE = 16000"
   ]
  },
  {
   "cell_type": "code",
   "execution_count": 3,
   "metadata": {},
   "outputs": [],
   "source": [
    "class AudioUtils():\n",
    "\n",
    "    def resample_audio(signal, org_sr):\n",
    "        resampler = T.Resample(org_sr, SAMPLE_RATE)\n",
    "        resampled_sig = resampler(signal)\n",
    "        return resampled_sig\n",
    "    \n",
    "    def open(aud_fn):\n",
    "        sig, sr = torchaudio.load(aud_fn)\n",
    "        duration = sig.shape[1]/sr\n",
    "        #print(sig.shape)\n",
    "        if sr != SAMPLE_RATE:\n",
    "            sig = AudioUtils.resample_audio(sig, sr)\n",
    "\n",
    "        # Converting stereo to mono\n",
    "        if sig.shape[0] == 2:\n",
    "            sig = sig.mean(dim=0).unsqueeze(0)\n",
    "        \n",
    "        if sig.shape[1]%SAMPLE_RATE == 0:\n",
    "            duration = sig.shape[1]/SAMPLE_RATE\n",
    "            sig = sig.squeeze().numpy()\n",
    "        else:\n",
    "            sig = sig.squeeze().numpy()\n",
    "            #print(sig_np.shape)\n",
    "            en = (int)((np.round(duration)+1)*SAMPLE_RATE - sig.shape[0])\n",
    "            sig = np.pad(sig, (0,en), mode = 'constant')\n",
    "            #sig = torch.from_numpy(sig_np).unsqueeze(0)\n",
    "            duration = sig.shape[0] / SAMPLE_RATE\n",
    "        \n",
    "        return sig, SAMPLE_RATE, duration\n",
    "    \n",
    "    def get_second_wise_mfcc(signal, duration):\n",
    "        mfcc_list = []\n",
    "        MFCC = T.MFCC(sample_rate=SAMPLE_RATE, n_mfcc=13)\n",
    "        for i in range(0,(int)(duration)):\n",
    "            mfcc_list.append(MFCC(signal[0][i:(i+SAMPLE_RATE)].unsqueeze(0)).squeeze())\n",
    "\n",
    "        return mfcc_list"
   ]
  },
  {
   "cell_type": "code",
   "execution_count": 4,
   "metadata": {},
   "outputs": [],
   "source": [
    "class AnnotUtils():\n",
    "\n",
    "    def get_speech_secs(fname):\n",
    "        grid = textgrids.TextGrid(fname)\n",
    "        speech_secs = []\n",
    "        for i in grid['silences']:\n",
    "            if i.text == '1':\n",
    "                #speech_secs.append([(np.round(i.xmin, decimals=2)), (np.round(i.xmax, decimals=2))])\n",
    "                speech_secs.append([(int)(np.round(i.xmin, decimals=2)), (int)(np.round(i.xmax, decimals=2))])\n",
    "        return speech_secs\n",
    "    \n",
    "\n",
    "    def get_labs_for_secs(speech_secs, duration):\n",
    "        \n",
    "        labels = [i*0 for i in range(0, (int)(duration))]\n",
    "\n",
    "        for i in range(0,len(speech_secs)):\n",
    "\n",
    "            if speech_secs[i][0] == speech_secs[i][1]:\n",
    "                labels[speech_secs[i][0]-1] = 1\n",
    "            else:\n",
    "                for j in range(speech_secs[i][0], speech_secs[i][1]):\n",
    "                    \n",
    "                    labels[j-1] = 1\n",
    "                    labels[j] = 1\n",
    "\n",
    "        return labels"
   ]
  },
  {
   "cell_type": "code",
   "execution_count": 6,
   "metadata": {},
   "outputs": [],
   "source": [
    "df2 = pd.read_csv('secWise_labs.csv')"
   ]
  },
  {
   "cell_type": "code",
   "execution_count": 49,
   "metadata": {},
   "outputs": [
    {
     "name": "stderr",
     "output_type": "stream",
     "text": [
      "/work/dpandya/miniconda3/envs/learning/lib/python3.10/site-packages/torchaudio/functional/functional.py:571: UserWarning: At least one mel filterbank has all zero values. The value for `n_mels` (128) may be set too high. Or, the value for `n_freqs` (201) may be set too low.\n",
      "  warnings.warn(\n"
     ]
    }
   ],
   "source": [
    "MFCC = T.MFCC(sample_rate=SAMPLE_RATE, n_mfcc=13)\n",
    "\n",
    "class VAD_Dataset(Dataset):\n",
    "    def __init__(self, df) -> None:\n",
    "        #super().__init__()\n",
    "        self.df = df\n",
    "        self.sr = 16000\n",
    "\n",
    "    def __len__(self):\n",
    "        return len(self.df)\n",
    "    \n",
    "    def __getitem__(self, index):\n",
    "\n",
    "        aud_part = self.df.loc[index][0]\n",
    "        labels = self.df.loc[index][1]\n",
    "        \n",
    "        if aud_part[-2] == '_':\n",
    "            n_sec = (int)(aud_part[-1])\n",
    "            aud_path = aud_part[:-2]+'.wav'\n",
    "        elif aud_part[-3] == '_':\n",
    "            n_sec = (int)(aud_part[-2:])\n",
    "            aud_path = aud_part[:-3]+'.wav'\n",
    "        #print(n_sec)\n",
    "        signal00, sam00, dur00 = AudioUtils.open(aud_path)\n",
    "        sig00 = torch.from_numpy(signal00[n_sec*SAMPLE_RATE:((n_sec+1)*SAMPLE_RATE)]).unsqueeze(0)\n",
    "        #print(sig00.shape)\n",
    "        #labels = torch.Tensor(labels).to(dtype=torch.long)\n",
    "        #mfcc_list = AudioUtils.get_second_wise_mfcc(sig00, dur00)\n",
    "        mfcc_tens = MFCC(sig00).to(dtype=torch.float)\n",
    "        #labels = AnnotUtils.get_labs_for_secs(AnnotUtils.get_speech_secs(annot_path), dur)\n",
    "        \n",
    "        #mfcc_tens = torch.flatten(mfcc_tens)\n",
    "        \n",
    "        return mfcc_tens, labels"
   ]
  },
  {
   "cell_type": "code",
   "execution_count": 50,
   "metadata": {},
   "outputs": [],
   "source": [
    "dataset = VAD_Dataset(df=df2)"
   ]
  },
  {
   "cell_type": "code",
   "execution_count": 51,
   "metadata": {},
   "outputs": [],
   "source": [
    "num_items = len(dataset)\n",
    "num_train = round(num_items * 0.8)\n",
    "num_val = num_items - num_train\n",
    "train_ds, val_ds = random_split(dataset, [num_train, num_val])"
   ]
  },
  {
   "cell_type": "code",
   "execution_count": 52,
   "metadata": {},
   "outputs": [],
   "source": [
    "train_loader = DataLoader(train_ds, batch_size=32, shuffle=True)\n",
    "test_loader = DataLoader(val_ds, batch_size=32, shuffle=True)"
   ]
  },
  {
   "cell_type": "code",
   "execution_count": 53,
   "metadata": {},
   "outputs": [
    {
     "name": "stdout",
     "output_type": "stream",
     "text": [
      "torch.Size([32, 1, 13, 81]) torch.Size([32])\n",
      "torch.Size([32, 1, 13, 81]) torch.Size([32])\n",
      "torch.Size([32, 1, 13, 81]) torch.Size([32])\n",
      "torch.Size([32, 1, 13, 81]) torch.Size([32])\n",
      "torch.Size([32, 1, 13, 81]) torch.Size([32])\n",
      "torch.Size([32, 1, 13, 81]) torch.Size([32])\n",
      "torch.Size([32, 1, 13, 81]) torch.Size([32])\n",
      "torch.Size([32, 1, 13, 81]) torch.Size([32])\n",
      "torch.Size([32, 1, 13, 81]) torch.Size([32])\n",
      "torch.Size([32, 1, 13, 81]) torch.Size([32])\n",
      "torch.Size([32, 1, 13, 81]) torch.Size([32])\n",
      "torch.Size([32, 1, 13, 81]) torch.Size([32])\n",
      "torch.Size([32, 1, 13, 81]) torch.Size([32])\n",
      "torch.Size([32, 1, 13, 81]) torch.Size([32])\n",
      "torch.Size([32, 1, 13, 81]) torch.Size([32])\n",
      "torch.Size([32, 1, 13, 81]) torch.Size([32])\n",
      "torch.Size([32, 1, 13, 81]) torch.Size([32])\n",
      "torch.Size([32, 1, 13, 81]) torch.Size([32])\n",
      "torch.Size([32, 1, 13, 81]) torch.Size([32])\n",
      "torch.Size([32, 1, 13, 81]) torch.Size([32])\n",
      "torch.Size([32, 1, 13, 81]) torch.Size([32])\n",
      "torch.Size([32, 1, 13, 81]) torch.Size([32])\n",
      "torch.Size([32, 1, 13, 81]) torch.Size([32])\n",
      "torch.Size([32, 1, 13, 81]) torch.Size([32])\n",
      "torch.Size([12, 1, 13, 81]) torch.Size([12])\n"
     ]
    }
   ],
   "source": [
    "for inputs, labels in test_loader:\n",
    "    print(inputs.shape, labels.shape)"
   ]
  },
  {
   "cell_type": "code",
   "execution_count": 44,
   "metadata": {},
   "outputs": [],
   "source": [
    "def acc_fn(lab, pred):\n",
    "    pred = torch.round(pred)\n",
    "    correct = (lab == pred).float()\n",
    "    return correct.mean().item()"
   ]
  },
  {
   "cell_type": "code",
   "execution_count": 60,
   "metadata": {},
   "outputs": [
    {
     "name": "stdout",
     "output_type": "stream",
     "text": [
      "torch.Size([32, 26, 2, 13])\n"
     ]
    },
    {
     "data": {
      "text/plain": [
       "torch.Size([32, 676])"
      ]
     },
     "execution_count": 60,
     "metadata": {},
     "output_type": "execute_result"
    }
   ],
   "source": [
    "sampl = torch.randn(32,1,13,81)\n",
    "\n",
    "l1 = nn.Conv2d(1,13,kernel_size=(3,3), padding=(1,1))\n",
    "relu = nn.ReLU()\n",
    "maxp1 = nn.MaxPool2d(kernel_size=(2,2))\n",
    "\n",
    "# --------------------------------- #\n",
    "\n",
    "l2 = nn.Conv2d(13, 26, kernel_size=(3,3), padding=(1,1))\n",
    "maxp2 = nn.MaxPool2d(kernel_size=(3,3))\n",
    "\n",
    "linear = nn.Linear(676, 1)\n",
    "sigmoid = nn.Sigmoid()\n",
    "\n",
    "x = maxp1(relu(l1(sampl)))\n",
    "x = maxp2(relu(l2(x)))\n",
    "print(x.shape)\n",
    "x = x.view(x.size(0), -1)\n",
    "#x = sigmoid(linear(x)).squeeze()\n",
    "\n",
    "# (torch.Size([32, 13, 4, 27]), torch.Size([32, 1404]))\n",
    "\n",
    "x.shape"
   ]
  },
  {
   "cell_type": "code",
   "execution_count": 61,
   "metadata": {},
   "outputs": [],
   "source": [
    "class ConvVAD(nn.Module):\n",
    "    def __init__(self) -> None:\n",
    "        super(ConvVAD, self).__init__()\n",
    "\n",
    "        self.l1 = nn.Conv2d(1,13,kernel_size=(3,3), padding=(1,1))\n",
    "        self.relu = nn.ReLU()\n",
    "        self.maxp1 = nn.MaxPool2d(kernel_size=(2,2))\n",
    "\n",
    "        # --------------------------------- #\n",
    "\n",
    "        self.l2 = nn.Conv2d(13, 26, kernel_size=(3,3), padding=(1,1))\n",
    "        self.maxp2 = nn.MaxPool2d(kernel_size=(3,3))\n",
    "\n",
    "        self.linear = nn.Linear(676, 1)\n",
    "        self.sigmoid = nn.Sigmoid()\n",
    "\n",
    "    def forward(self, x):\n",
    "        \n",
    "        x = self.maxp1(self.relu(self.l1(x)))\n",
    "        x = self.maxp2(self.relu(self.l2(x)))\n",
    "        x = x.view(x.size(0), -1)\n",
    "        x = self.sigmoid(self.linear(x)).squeeze()\n",
    "\n",
    "        return x"
   ]
  },
  {
   "cell_type": "code",
   "execution_count": 62,
   "metadata": {},
   "outputs": [],
   "source": [
    "torch.cuda.empty_cache()\n",
    "device = 'cuda:1' if torch.cuda.is_available() else 'cpu'\n",
    "\n",
    "model00 = ConvVAD().to(device)\n",
    "\n",
    "criterion = nn.BCELoss()\n",
    "optimizer = optim.SGD(model00.parameters(), lr=0.001)"
   ]
  },
  {
   "cell_type": "code",
   "execution_count": 63,
   "metadata": {},
   "outputs": [
    {
     "name": "stdout",
     "output_type": "stream",
     "text": [
      "Epoch [1/20], Accuracy: 0.6345207727685267, Loss: 28.571430206298828\n",
      "Epoch [2/20], Accuracy: 0.6337008020099328, Loss: 42.85714340209961\n",
      "Epoch [3/20], Accuracy: 0.6332908163265306, Loss: 50.000003814697266\n",
      "Epoch [4/20], Accuracy: 0.6341107876933351, Loss: 35.71428680419922\n",
      "Epoch [5/20], Accuracy: 0.6332908163265306, Loss: 50.000003814697266\n",
      "Epoch [6/20], Accuracy: 0.6349307584519289, Loss: 21.428571701049805\n",
      "Epoch [7/20], Accuracy: 0.6345207727685267, Loss: 28.571430206298828\n",
      "Epoch [8/20], Accuracy: 0.6337008020099328, Loss: 42.85714340209961\n",
      "Epoch [9/20], Accuracy: 0.6332908163265306, Loss: 50.000003814697266\n",
      "Epoch [10/20], Accuracy: 0.632880831251339, Loss: 57.142860412597656\n",
      "Epoch [11/20], Accuracy: 0.6349307584519289, Loss: 21.428571701049805\n",
      "Epoch [12/20], Accuracy: 0.6349307584519289, Loss: 21.428571701049805\n",
      "Epoch [13/20], Accuracy: 0.6332908163265306, Loss: 50.000003814697266\n",
      "Epoch [14/20], Accuracy: 0.6337008020099328, Loss: 42.85714340209961\n",
      "Epoch [15/20], Accuracy: 0.6341107876933351, Loss: 35.71428680419922\n",
      "Epoch [16/20], Accuracy: 0.6337008020099328, Loss: 42.85714340209961\n",
      "Epoch [17/20], Accuracy: 0.6341107876933351, Loss: 35.71428680419922\n",
      "Epoch [18/20], Accuracy: 0.6349307584519289, Loss: 21.428571701049805\n",
      "Epoch [19/20], Accuracy: 0.6349307584519289, Loss: 21.428571701049805\n",
      "Epoch [20/20], Accuracy: 0.6337008020099328, Loss: 42.85714340209961\n"
     ]
    }
   ],
   "source": [
    "import statistics\n",
    "\n",
    "torch.manual_seed(13)\n",
    "torch.cuda.manual_seed(13)\n",
    "\n",
    "epochs = 20\n",
    "\n",
    "for epoch in range(epochs):\n",
    "\n",
    "    acc = []\n",
    "\n",
    "    for batch in train_loader:\n",
    "\n",
    "        inputs, labels = batch\n",
    "\n",
    "        inputs = inputs.to(device)\n",
    "        labels = labels.to(device, dtype=torch.float)\n",
    "\n",
    "        model00.train()\n",
    "        outputs = torch.round(model00(inputs))\n",
    "        loss = criterion(outputs.float(), labels.float())\n",
    "\n",
    "        loss.backward()\n",
    "        optimizer.step()\n",
    "        optimizer.zero_grad()\n",
    "\n",
    "        acc.append(acc_fn(labels.float(), outputs.float()))\n",
    "\n",
    "    accuracie = statistics.mean(acc)\n",
    "\n",
    "    print(f'Epoch [{epoch+1}/{epochs}], Accuracy: {accuracie}, Loss: {loss}')\n"
   ]
  },
  {
   "cell_type": "code",
   "execution_count": 65,
   "metadata": {},
   "outputs": [
    {
     "name": "stdout",
     "output_type": "stream",
     "text": [
      "0.63375\n"
     ]
    }
   ],
   "source": [
    "test_acc = []\n",
    "for batch in test_loader:\n",
    "\n",
    "    \n",
    "    inputs, labels = batch\n",
    "\n",
    "    inputs = inputs.to(device)\n",
    "    labels = labels.to(device, dtype=torch.float)\n",
    "\n",
    "    model00.eval()\n",
    "    with torch.inference_mode():\n",
    "        y_preds = torch.round(model00(inputs))\n",
    "\n",
    "    test_acc.append(acc_fn(labels.float(), y_preds.float()))\n",
    "\n",
    "print(statistics.mean(test_acc))"
   ]
  }
 ],
 "metadata": {
  "kernelspec": {
   "display_name": "learning",
   "language": "python",
   "name": "python3"
  },
  "language_info": {
   "codemirror_mode": {
    "name": "ipython",
    "version": 3
   },
   "file_extension": ".py",
   "mimetype": "text/x-python",
   "name": "python",
   "nbconvert_exporter": "python",
   "pygments_lexer": "ipython3",
   "version": "3.10.12"
  },
  "orig_nbformat": 4
 },
 "nbformat": 4,
 "nbformat_minor": 2
}
