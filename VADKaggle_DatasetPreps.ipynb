{
 "cells": [
  {
   "cell_type": "code",
   "execution_count": 2,
   "metadata": {},
   "outputs": [],
   "source": [
    "import pandas as pd\n",
    "import numpy as np\n",
    "import torch\n",
    "import torchaudio\n",
    "import textgrids\n",
    "import torchaudio.transforms as T\n",
    "\n",
    "SAMPLE_RATE = 16000"
   ]
  },
  {
   "cell_type": "code",
   "execution_count": 3,
   "metadata": {},
   "outputs": [],
   "source": [
    "#df['audio_files'], df['annotation_files']\n",
    "\n",
    "class AudioUtils():\n",
    "\n",
    "    def resample_audio(signal, org_sr):\n",
    "        resampler = T.Resample(org_sr, SAMPLE_RATE)\n",
    "        resampled_sig = resampler(signal)\n",
    "        return resampled_sig\n",
    "    \n",
    "    def open(aud_fn):\n",
    "        sig, sr = torchaudio.load(aud_fn)\n",
    "        duration = sig.shape[1]/sr\n",
    "        #print(sig.shape)\n",
    "        if sr != SAMPLE_RATE:\n",
    "            sig = AudioUtils.resample_audio(sig, sr)\n",
    "\n",
    "        # Converting stereo to mono\n",
    "        if sig.shape[0] == 2:\n",
    "            sig = sig.mean(dim=0).unsqueeze(0)\n",
    "        \n",
    "        if sig.shape[1]%SAMPLE_RATE == 0:\n",
    "            duration = sig.shape[1]/SAMPLE_RATE\n",
    "            sig = sig.squeeze().numpy()\n",
    "        else:\n",
    "            sig = sig.squeeze().numpy()\n",
    "            #print(sig_np.shape)\n",
    "            en = (int)((np.round(duration)+1)*SAMPLE_RATE - sig.shape[0])\n",
    "            sig = np.pad(sig, (0,en), mode = 'constant')\n",
    "            #sig = torch.from_numpy(sig_np).unsqueeze(0)\n",
    "            duration = sig.shape[0] / SAMPLE_RATE\n",
    "        \n",
    "        return sig, SAMPLE_RATE, duration\n",
    "    \n",
    "    def get_second_wise_mfcc(signal, duration):\n",
    "        mfcc_list = []\n",
    "        MFCC = T.MFCC(sample_rate=SAMPLE_RATE, n_mfcc=13)\n",
    "        for i in range(0,(int)(duration)):\n",
    "            mfcc_list.append(MFCC(signal[0][i:(i+SAMPLE_RATE)].unsqueeze(0)).squeeze())\n",
    "\n",
    "        return mfcc_list"
   ]
  },
  {
   "cell_type": "code",
   "execution_count": 4,
   "metadata": {},
   "outputs": [],
   "source": [
    "class AnnotUtils():\n",
    "\n",
    "    def get_speech_secs(fname):\n",
    "        grid = textgrids.TextGrid(fname)\n",
    "        speech_secs = []\n",
    "        for i in grid['silences']:\n",
    "            if i.text == '1':\n",
    "                #speech_secs.append([(np.round(i.xmin, decimals=2)), (np.round(i.xmax, decimals=2))])\n",
    "                speech_secs.append([(int)(np.round(i.xmin, decimals=2)), (int)(np.round(i.xmax, decimals=2))])\n",
    "        return speech_secs\n",
    "    \n",
    "\n",
    "    def get_labs_for_secs(speech_secs, duration):\n",
    "        \n",
    "        labels = [i*0 for i in range(0, (int)(duration))]\n",
    "\n",
    "        for i in range(0,len(speech_secs)):\n",
    "\n",
    "            if speech_secs[i][0] == speech_secs[i][1]:\n",
    "                labels[speech_secs[i][0]-1] = 1\n",
    "            else:\n",
    "                for j in range(speech_secs[i][0], speech_secs[i][1]):\n",
    "                    \n",
    "                    labels[j-1] = 1\n",
    "                    labels[j] = 1\n",
    "\n",
    "        return labels"
   ]
  },
  {
   "cell_type": "code",
   "execution_count": 5,
   "metadata": {},
   "outputs": [
    {
     "data": {
      "text/html": [
       "<div>\n",
       "<style scoped>\n",
       "    .dataframe tbody tr th:only-of-type {\n",
       "        vertical-align: middle;\n",
       "    }\n",
       "\n",
       "    .dataframe tbody tr th {\n",
       "        vertical-align: top;\n",
       "    }\n",
       "\n",
       "    .dataframe thead th {\n",
       "        text-align: right;\n",
       "    }\n",
       "</style>\n",
       "<table border=\"1\" class=\"dataframe\">\n",
       "  <thead>\n",
       "    <tr style=\"text-align: right;\">\n",
       "      <th></th>\n",
       "      <th>audio_list_secs</th>\n",
       "      <th>secWise_labs</th>\n",
       "    </tr>\n",
       "  </thead>\n",
       "  <tbody>\n",
       "    <tr>\n",
       "      <th>0</th>\n",
       "      <td>../audioData/VAD_Kaggle/Data/Audio/Female/PTDB...</td>\n",
       "      <td>0</td>\n",
       "    </tr>\n",
       "    <tr>\n",
       "      <th>1</th>\n",
       "      <td>../audioData/VAD_Kaggle/Data/Audio/Female/PTDB...</td>\n",
       "      <td>0</td>\n",
       "    </tr>\n",
       "    <tr>\n",
       "      <th>2</th>\n",
       "      <td>../audioData/VAD_Kaggle/Data/Audio/Female/PTDB...</td>\n",
       "      <td>1</td>\n",
       "    </tr>\n",
       "    <tr>\n",
       "      <th>3</th>\n",
       "      <td>../audioData/VAD_Kaggle/Data/Audio/Female/PTDB...</td>\n",
       "      <td>1</td>\n",
       "    </tr>\n",
       "    <tr>\n",
       "      <th>4</th>\n",
       "      <td>../audioData/VAD_Kaggle/Data/Audio/Female/PTDB...</td>\n",
       "      <td>1</td>\n",
       "    </tr>\n",
       "  </tbody>\n",
       "</table>\n",
       "</div>"
      ],
      "text/plain": [
       "                                     audio_list_secs  secWise_labs\n",
       "0  ../audioData/VAD_Kaggle/Data/Audio/Female/PTDB...             0\n",
       "1  ../audioData/VAD_Kaggle/Data/Audio/Female/PTDB...             0\n",
       "2  ../audioData/VAD_Kaggle/Data/Audio/Female/PTDB...             1\n",
       "3  ../audioData/VAD_Kaggle/Data/Audio/Female/PTDB...             1\n",
       "4  ../audioData/VAD_Kaggle/Data/Audio/Female/PTDB...             1"
      ]
     },
     "execution_count": 5,
     "metadata": {},
     "output_type": "execute_result"
    }
   ],
   "source": [
    "df2 = pd.read_csv('secWise_labs.csv')\n",
    "df2.head()"
   ]
  },
  {
   "cell_type": "code",
   "execution_count": 7,
   "metadata": {},
   "outputs": [
    {
     "name": "stderr",
     "output_type": "stream",
     "text": [
      "/work/dpandya/miniconda3/envs/learning/lib/python3.10/site-packages/torchaudio/functional/functional.py:571: UserWarning: At least one mel filterbank has all zero values. The value for `n_mels` (128) may be set too high. Or, the value for `n_freqs` (201) may be set too low.\n",
      "  warnings.warn(\n"
     ]
    }
   ],
   "source": [
    "from torch.utils.data import DataLoader, Dataset, random_split\n",
    "\n",
    "MFCC = T.MFCC(sample_rate=SAMPLE_RATE, n_mfcc=13)\n",
    "\n",
    "class VAD_Dataset(Dataset):\n",
    "    def __init__(self, df) -> None:\n",
    "        #super().__init__()\n",
    "        self.df = df\n",
    "        self.sr = 16000\n",
    "\n",
    "    def __len__(self):\n",
    "        return len(self.df)\n",
    "    \n",
    "    def __getitem__(self, index):\n",
    "\n",
    "        aud_part = self.df.loc[index][0]\n",
    "        labels = self.df.loc[index][1]\n",
    "        \n",
    "        if aud_part[-2] == '_':\n",
    "            n_sec = (int)(aud_part[-1])\n",
    "            aud_path = aud_part[:-2]+'.wav'\n",
    "        elif aud_part[-3] == '_':\n",
    "            n_sec = (int)(aud_part[-2:])\n",
    "            aud_path = aud_part[:-3]+'.wav'\n",
    "        #print(n_sec)\n",
    "        signal00, sam00, dur00 = AudioUtils.open(aud_path)\n",
    "        sig00 = torch.from_numpy(signal00[n_sec*SAMPLE_RATE:((n_sec+1)*SAMPLE_RATE)]).unsqueeze(0)\n",
    "        #print(sig00.shape)\n",
    "        #labels = torch.Tensor(labels).to(dtype=torch.long)\n",
    "        #mfcc_list = AudioUtils.get_second_wise_mfcc(sig00, dur00)\n",
    "        mfcc_tens = MFCC(sig00).to(dtype=torch.float)\n",
    "        #labels = AnnotUtils.get_labs_for_secs(AnnotUtils.get_speech_secs(annot_path), dur)\n",
    "\n",
    "        return mfcc_tens, labels"
   ]
  },
  {
   "cell_type": "code",
   "execution_count": 35,
   "metadata": {},
   "outputs": [],
   "source": [
    "myds = VAD_Dataset(df=df2)"
   ]
  },
  {
   "cell_type": "code",
   "execution_count": 36,
   "metadata": {},
   "outputs": [],
   "source": [
    "num_items = len(myds)\n",
    "num_train = round(num_items * 0.8)\n",
    "num_val = num_items - num_train\n",
    "train_ds, val_ds = random_split(myds, [num_train, num_val])"
   ]
  },
  {
   "cell_type": "code",
   "execution_count": 43,
   "metadata": {},
   "outputs": [],
   "source": [
    "train_loader = DataLoader(train_ds, batch_size=32, shuffle=True)\n",
    "test_loader = DataLoader(val_ds, batch_size=32, shuffle=True)"
   ]
  },
  {
   "cell_type": "code",
   "execution_count": 32,
   "metadata": {},
   "outputs": [
    {
     "name": "stdout",
     "output_type": "stream",
     "text": [
      "torch.Size([32, 1920])\n",
      "<class 'torch.Tensor'>\n"
     ]
    }
   ],
   "source": [
    "sampl = torch.randn(32,1,13,81)\n",
    "\n",
    "conv1 = nn.Conv2d(1, 16, kernel_size=(3, 3), padding=1)\n",
    "relu1 = nn.ReLU()\n",
    "maxpool1 = nn.MaxPool2d(kernel_size=(2, 2))\n",
    "\n",
    "conv2 = nn.Conv2d(16,32,kernel_size=(3), padding=1)\n",
    "relu2 = nn.ReLU()\n",
    "maxpool2 = nn.MaxPool2d(kernel_size=(2, 2))\n",
    "\n",
    "x = maxpool1(relu1(conv1(sampl)))\n",
    "x = maxpool2(relu2(conv2(x)))\n",
    "x = x.view(x.size(0), -1)\n",
    "print(x.shape)\n",
    "'''\n",
    "conv2 = nn.Conv2d(32, 64, kernel_size=(3, 3), padding=1)\n",
    "relu2 = nn.ReLU()\n",
    "maxpool2 = nn.MaxPool2d(kernel_size=(2, 2))\n",
    "x = maxpool2(relu2(conv2(x)))\n",
    "x = x.view(x.size(0), -1)  # Flatten the output\n",
    "print(x.shape)\n",
    "shp = 64*3*20\n",
    "\n",
    "#fc1 = nn.Linear(20, 128)\n",
    "fc1 = nn.Linear(3840, 128)\n",
    "relu3 = nn.ReLU()\n",
    "fc2 = nn.Linear(128, 1)\n",
    "x = fc2(relu3(fc1(x)))\n",
    "x = torch.sigmoid(x)'''\n",
    "\n",
    "print(type(torch.round(x)))"
   ]
  },
  {
   "cell_type": "code",
   "execution_count": 37,
   "metadata": {},
   "outputs": [],
   "source": [
    "import torch.nn as nn\n",
    "\n",
    "class SpeechDetectionCNN00(nn.Module):\n",
    "    def __init__(self):\n",
    "        super(SpeechDetectionCNN00, self).__init__()\n",
    "        self.conv1 = nn.Conv2d(1, 16, kernel_size=(3, 3), padding=1)\n",
    "        self.relu1 = nn.ReLU()\n",
    "        self.maxpool1 = nn.MaxPool2d(kernel_size=(2, 2))\n",
    "\n",
    "        self.conv2 = nn.Conv2d(16, 32, kernel_size=(3, 3), padding=1)\n",
    "        self.relu2 = nn.ReLU()\n",
    "        self.maxpool2 = nn.MaxPool2d(kernel_size=(2, 2))\n",
    "\n",
    "        self.fc1 = nn.Linear(1920,128)\n",
    "        self.relu3 = nn.ReLU()\n",
    "        self.fc2 = nn.Linear(128, 1)  # 2 classes: Speech or No Speech\n",
    "        self.sigmoid = nn.Sigmoid()\n",
    "\n",
    "    def forward(self, x):\n",
    "        x = self.conv1(x)\n",
    "        x = self.relu1(x)\n",
    "        x = self.maxpool1(x)\n",
    "\n",
    "        x = self.conv2(x)\n",
    "        x = self.relu2(x)\n",
    "        x = self.maxpool2(x)\n",
    "\n",
    "        x = x.view(x.size(0), -1)  # Flatten the output\n",
    "        x = self.fc1(x)\n",
    "        x = self.relu3(x)\n",
    "        x = self.fc2(x)\n",
    "        x = self.sigmoid(x)\n",
    "        return x"
   ]
  },
  {
   "cell_type": "code",
   "execution_count": 38,
   "metadata": {},
   "outputs": [],
   "source": [
    "device = 'cuda' if torch.cuda.is_available() else 'cpu'\n",
    "\n",
    "model = SpeechDetectionCNN00().to(device)\n",
    "\n",
    "criterion = nn.BCELoss()\n",
    "optimizer = torch.optim.Adam(model.parameters(), lr=0.001)"
   ]
  },
  {
   "cell_type": "code",
   "execution_count": 39,
   "metadata": {},
   "outputs": [
    {
     "name": "stdout",
     "output_type": "stream",
     "text": [
      "Epoch [1/20], Accuracy: 0.3620910840282232, Loss: 78.5714340209961\n",
      "Epoch [2/20], Accuracy: 0.3608082103912765, Loss: 57.142860412597656\n",
      "Epoch [3/20], Accuracy: 0.3608082103912765, Loss: 64.28572082519531\n",
      "Epoch [4/20], Accuracy: 0.3608082103912765, Loss: 57.142860412597656\n",
      "Epoch [5/20], Accuracy: 0.3608082103912765, Loss: 71.42857360839844\n",
      "Epoch [6/20], Accuracy: 0.3608082103912765, Loss: 57.142860412597656\n",
      "Epoch [7/20], Accuracy: 0.3608082103912765, Loss: 64.28572082519531\n",
      "Epoch [8/20], Accuracy: 0.3608082103912765, Loss: 71.42857360839844\n",
      "Epoch [9/20], Accuracy: 0.3608082103912765, Loss: 57.142860412597656\n",
      "Epoch [10/20], Accuracy: 0.3608082103912765, Loss: 64.28572082519531\n",
      "Epoch [11/20], Accuracy: 0.3608082103912765, Loss: 57.142860412597656\n",
      "Epoch [12/20], Accuracy: 0.3608082103912765, Loss: 50.000003814697266\n",
      "Epoch [13/20], Accuracy: 0.3608082103912765, Loss: 71.42857360839844\n",
      "Epoch [14/20], Accuracy: 0.3608082103912765, Loss: 50.000003814697266\n",
      "Epoch [15/20], Accuracy: 0.3608082103912765, Loss: 71.42857360839844\n",
      "Epoch [16/20], Accuracy: 0.3608082103912765, Loss: 50.000003814697266\n",
      "Epoch [17/20], Accuracy: 0.3608082103912765, Loss: 78.5714340209961\n",
      "Epoch [18/20], Accuracy: 0.3608082103912765, Loss: 78.5714340209961\n",
      "Epoch [19/20], Accuracy: 0.3608082103912765, Loss: 64.28572082519531\n",
      "Epoch [20/20], Accuracy: 0.3608082103912765, Loss: 42.85714340209961\n"
     ]
    }
   ],
   "source": [
    "from sklearn.metrics import accuracy_score\n",
    "\n",
    "epochs = 20\n",
    "\n",
    "for epoch in range(epochs):\n",
    "\n",
    "    preds = []\n",
    "    targets = []\n",
    "    \n",
    "    for batch in train_loader:\n",
    "        \n",
    "        inputs, labels = batch\n",
    "        inputs = inputs.to(device, dtype=torch.float)\n",
    "        labels = labels.to(device).unsqueeze(1).to(dtype=torch.float)\n",
    "\n",
    "        optimizer.zero_grad()\n",
    "        outputs = model(inputs)\n",
    "        #print(outputs.type(), labels.type())\n",
    "        loss = criterion(outputs, labels)\n",
    "        loss.backward()\n",
    "        optimizer.step()\n",
    "    \n",
    "        model.eval()\n",
    "        with torch.inference_mode():\n",
    "            targets.extend(labels.cpu().numpy())\n",
    "            preds.extend(torch.round(outputs).cpu().numpy())\n",
    "        \n",
    "\n",
    "    print(f'Epoch [{epoch+1}/{epochs}], Accuracy: {accuracy_score(targets, preds)}, Loss: {loss.item()}')\n",
    "    "
   ]
  },
  {
   "cell_type": "code",
   "execution_count": 44,
   "metadata": {},
   "outputs": [],
   "source": [
    "from sklearn.metrics import accuracy_score\n",
    "\n",
    "preds = []\n",
    "targets = []\n",
    "\n",
    "for batch in test_loader:\n",
    "\n",
    "    inputs, labels = batch\n",
    "    \n",
    "    inputs = inputs.to(device, dtype=torch.float)\n",
    "    labels = labels.to(device).unsqueeze(1).to(dtype=torch.float)\n",
    "    \n",
    "    model.eval()\n",
    "    with torch.inference_mode():\n",
    "        y_preds = torch.round(model(inputs))\n",
    "\n",
    "    targets.extend(labels.cpu().numpy())\n",
    "    preds.extend(y_preds.cpu().numpy())\n",
    "    "
   ]
  },
  {
   "cell_type": "code",
   "execution_count": 45,
   "metadata": {},
   "outputs": [
    {
     "name": "stdout",
     "output_type": "stream",
     "text": [
      "0.3576923076923077\n"
     ]
    }
   ],
   "source": [
    "acc = accuracy_score(targets, preds)\n",
    "print(acc)"
   ]
  },
  {
   "cell_type": "code",
   "execution_count": 46,
   "metadata": {},
   "outputs": [
    {
     "data": {
      "text/plain": [
       "0.0"
      ]
     },
     "execution_count": 46,
     "metadata": {},
     "output_type": "execute_result"
    }
   ],
   "source": [
    "from sklearn.metrics import f1_score\n",
    "\n",
    "f1_score = f1_score(targets, preds)\n",
    "f1_score"
   ]
  },
  {
   "cell_type": "code",
   "execution_count": 26,
   "metadata": {},
   "outputs": [
    {
     "data": {
      "text/plain": [
       "torch.float32"
      ]
     },
     "execution_count": 26,
     "metadata": {},
     "output_type": "execute_result"
    }
   ],
   "source": [
    "import torch.nn as nn\n",
    "\n",
    "samm = np.random.rand(13,81)\n",
    "samm = torch.from_numpy(samm).to(torch.float)\n",
    "samm.dtype"
   ]
  },
  {
   "cell_type": "code",
   "execution_count": 38,
   "metadata": {},
   "outputs": [
    {
     "data": {
      "text/plain": [
       "torch.Size([1, 3, 4, 38])"
      ]
     },
     "execution_count": 38,
     "metadata": {},
     "output_type": "execute_result"
    }
   ],
   "source": [
    "m = nn.Conv2d(1, 3, (3), stride=2, padding=(1,1))\n",
    "ac_layer = nn.ReLU()\n",
    "norm_la = nn.BatchNorm2d(3)\n",
    "pool_la = nn.MaxPool2d(4, stride=1)\n",
    "\n",
    "t_t = ac_layer(m(samm.unsqueeze(0)))\n",
    "t_t = norm_la(t_t.unsqueeze(0))\n",
    "t_t = pool_la(t_t)\n",
    "\n",
    "t_t.shape"
   ]
  },
  {
   "cell_type": "code",
   "execution_count": null,
   "metadata": {},
   "outputs": [],
   "source": [
    "def rando(path):\n",
    "    if path[-2] == '_':\n",
    "        n_sec = (int)(path[-1])\n",
    "        aud_path = path[:-2]+'.wav'\n",
    "    elif path[-3] == '_':\n",
    "        n_sec = (int)(path[-2:])\n",
    "        aud_path = path[:-3]+'.wav'\n",
    "    signal00, sam00, dur00 = AudioUtils.open(aud_path)\n",
    "    sig00 = torch.from_numpy(signal00[n_sec*SAMPLE_RATE:((n_sec+1)*SAMPLE_RATE)]).unsqueeze(0)\n",
    "    return sig00.shape\n",
    "\n",
    "for i in df2['audio_list_secs']:\n",
    "    if rando(i) != torch.Size([1, 16000]):\n",
    "        print('Ehhh', i)\n"
   ]
  }
 ],
 "metadata": {
  "kernelspec": {
   "display_name": "learning",
   "language": "python",
   "name": "python3"
  },
  "language_info": {
   "codemirror_mode": {
    "name": "ipython",
    "version": 3
   },
   "file_extension": ".py",
   "mimetype": "text/x-python",
   "name": "python",
   "nbconvert_exporter": "python",
   "pygments_lexer": "ipython3",
   "version": "3.10.12"
  },
  "orig_nbformat": 4
 },
 "nbformat": 4,
 "nbformat_minor": 2
}
