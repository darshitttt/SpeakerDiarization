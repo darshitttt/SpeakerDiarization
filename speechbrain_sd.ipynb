{
 "cells": [
  {
   "cell_type": "code",
   "execution_count": 32,
   "metadata": {},
   "outputs": [],
   "source": [
    "import speechbrain\n",
    "from speechbrain.pretrained import EncoderClassifier\n",
    "import numpy as np\n",
    "import matplotlib.pyplot as plt\n",
    "\n",
    "classifier = EncoderClassifier.from_hparams('speechbrain/spkrec-ecapa-voxceleb')"
   ]
  },
  {
   "cell_type": "code",
   "execution_count": 24,
   "metadata": {},
   "outputs": [
    {
     "data": {
      "text/plain": [
       "(torch.Size([1, 1097236]), 16000)"
      ]
     },
     "execution_count": 24,
     "metadata": {},
     "output_type": "execute_result"
    }
   ],
   "source": [
    "import torchaudio\n",
    "#audio_wav = '../audioData/familyDecisionVids/336.wav'\n",
    "audio_wav = 'audio_de_test_mono.wav'\n",
    "\n",
    "signal, sr = torchaudio.load(audio_wav)\n",
    "signal.shape, sr"
   ]
  },
  {
   "cell_type": "code",
   "execution_count": 41,
   "metadata": {},
   "outputs": [],
   "source": [
    "from speechbrain.pretrained import SpeakerRecognition\n",
    "verification = SpeakerRecognition.from_hparams(source=\"speechbrain/spkrec-ecapa-voxceleb\", savedir=\"pretrained_models/spkrec-ecapa-voxceleb\")\n"
   ]
  },
  {
   "cell_type": "code",
   "execution_count": 42,
   "metadata": {},
   "outputs": [
    {
     "name": "stderr",
     "output_type": "stream",
     "text": [
      "Downloading (…)ain/hyperparams.yaml: 100%|██████████| 2.29k/2.29k [00:00<00:00, 7.59MB/s]\n",
      "Downloading (…)olve/main/model.ckpt: 100%|██████████| 453k/453k [00:00<00:00, 4.71MB/s]\n",
      "Downloading (…)n/mean_var_norm.ckpt: 100%|██████████| 1.06k/1.06k [00:00<00:00, 1.54MB/s]\n"
     ]
    }
   ],
   "source": [
    "from speechbrain.pretrained import VAD\n",
    "VAD = VAD.from_hparams(source=\"speechbrain/vad-crdnn-libriparty\", savedir='pretrained_models/VAD')\n",
    "#score, prediction = verification.verify_files() # Different Speakers"
   ]
  },
  {
   "cell_type": "code",
   "execution_count": 44,
   "metadata": {},
   "outputs": [],
   "source": [
    "#segment_list = VAD.get_speech_segments('../audioData/familyDecisionVids/336.wav')\n",
    "chunks_tensor = VAD.create_chunks(signal, chunk_size=10*sr, chunk_stride=2*sr)"
   ]
  },
  {
   "cell_type": "code",
   "execution_count": 51,
   "metadata": {},
   "outputs": [
    {
     "name": "stdout",
     "output_type": "stream",
     "text": [
      "audio_de_test_mono_chunk0.wav\n",
      "audio_de_test_mono_chunk1.wav\n",
      "audio_de_test_mono_chunk2.wav\n",
      "audio_de_test_mono_chunk3.wav\n",
      "audio_de_test_mono_chunk4.wav\n",
      "audio_de_test_mono_chunk5.wav\n",
      "audio_de_test_mono_chunk6.wav\n",
      "audio_de_test_mono_chunk7.wav\n",
      "audio_de_test_mono_chunk8.wav\n",
      "audio_de_test_mono_chunk9.wav\n",
      "audio_de_test_mono_chunk10.wav\n",
      "audio_de_test_mono_chunk11.wav\n",
      "audio_de_test_mono_chunk12.wav\n",
      "audio_de_test_mono_chunk13.wav\n",
      "audio_de_test_mono_chunk14.wav\n",
      "audio_de_test_mono_chunk15.wav\n",
      "audio_de_test_mono_chunk16.wav\n",
      "audio_de_test_mono_chunk17.wav\n",
      "audio_de_test_mono_chunk18.wav\n",
      "audio_de_test_mono_chunk19.wav\n",
      "audio_de_test_mono_chunk20.wav\n",
      "audio_de_test_mono_chunk21.wav\n",
      "audio_de_test_mono_chunk22.wav\n",
      "audio_de_test_mono_chunk23.wav\n",
      "audio_de_test_mono_chunk24.wav\n",
      "audio_de_test_mono_chunk25.wav\n",
      "audio_de_test_mono_chunk26.wav\n",
      "audio_de_test_mono_chunk27.wav\n",
      "audio_de_test_mono_chunk28.wav\n",
      "audio_de_test_mono_chunk29.wav\n"
     ]
    },
    {
     "ename": "IndexError",
     "evalue": "index 30 is out of bounds for dimension 0 with size 30",
     "output_type": "error",
     "traceback": [
      "\u001b[0;31m---------------------------------------------------------------------------\u001b[0m",
      "\u001b[0;31mIndexError\u001b[0m                                Traceback (most recent call last)",
      "Cell \u001b[0;32mIn[51], line 5\u001b[0m\n\u001b[1;32m      3\u001b[0m \u001b[39mfor\u001b[39;00m i \u001b[39min\u001b[39;00m \u001b[39mrange\u001b[39m(\u001b[39m0\u001b[39m, chunks_tensor\u001b[39m.\u001b[39mshape[\u001b[39m1\u001b[39m]\u001b[39m-\u001b[39m\u001b[39m1\u001b[39m):\n\u001b[1;32m      4\u001b[0m     out_fn \u001b[39m=\u001b[39m \u001b[39mf\u001b[39m\u001b[39m'\u001b[39m\u001b[39m{\u001b[39;00msss\u001b[39m}\u001b[39;00m\u001b[39m_chunk\u001b[39m\u001b[39m{\u001b[39;00mi\u001b[39m}\u001b[39;00m\u001b[39m.wav\u001b[39m\u001b[39m'\u001b[39m\n\u001b[0;32m----> 5\u001b[0m     torchaudio\u001b[39m.\u001b[39msave(out_fn,chunks_tensor[i]\u001b[39m.\u001b[39munsqueeze(\u001b[39m0\u001b[39m),\u001b[39m16000\u001b[39m)\n\u001b[1;32m      6\u001b[0m     \u001b[39mprint\u001b[39m(out_fn)\n",
      "\u001b[0;31mIndexError\u001b[0m: index 30 is out of bounds for dimension 0 with size 30"
     ]
    }
   ],
   "source": [
    "sss = audio_wav.split('.')[0]\n",
    "\n",
    "for i in range(0, chunks_tensor.shape[1]-1):\n",
    "    out_fn = f'{sss}_chunk{i}.wav'\n",
    "    torchaudio.save(out_fn,chunks_tensor[i].unsqueeze(0),16000)\n",
    "    print(out_fn)"
   ]
  },
  {
   "cell_type": "code",
   "execution_count": 52,
   "metadata": {},
   "outputs": [],
   "source": [
    "segment_list = VAD.get_speech_segments('/work/dpandya/giggityGit/SpeakerDiarization/audio_de_test_mono_chunk0.wav')"
   ]
  },
  {
   "cell_type": "code",
   "execution_count": 53,
   "metadata": {},
   "outputs": [
    {
     "data": {
      "text/plain": [
       "tensor([[2.8700, 9.9800]])"
      ]
     },
     "execution_count": 53,
     "metadata": {},
     "output_type": "execute_result"
    }
   ],
   "source": [
    "segment_list"
   ]
  },
  {
   "cell_type": "code",
   "execution_count": null,
   "metadata": {},
   "outputs": [],
   "source": [
    "\n",
    "embeddings = classifier.encode_batch(signal)"
   ]
  }
 ],
 "metadata": {
  "kernelspec": {
   "display_name": "learning",
   "language": "python",
   "name": "python3"
  },
  "language_info": {
   "codemirror_mode": {
    "name": "ipython",
    "version": 3
   },
   "file_extension": ".py",
   "mimetype": "text/x-python",
   "name": "python",
   "nbconvert_exporter": "python",
   "pygments_lexer": "ipython3",
   "version": "3.10.12"
  },
  "orig_nbformat": 4
 },
 "nbformat": 4,
 "nbformat_minor": 2
}
